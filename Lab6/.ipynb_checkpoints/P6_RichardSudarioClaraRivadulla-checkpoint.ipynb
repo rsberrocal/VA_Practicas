{
 "cells": [
  {
   "cell_type": "markdown",
   "metadata": {},
   "source": [
    "# Computer Vision - P6"
   ]
  },
  {
   "cell_type": "markdown",
   "metadata": {},
   "source": [
    "## Delivery\n",
    "\n",
    "Up to **1 point out of 10** will be penalized if the following requirements are not fulfilled:\n",
    "\n",
    "- Implemented code should be commented.\n",
    "\n",
    "- The questions introduced in the exercises must be answered.\n",
    "\n",
    "- Add title to the figures to explain what is displayed.\n",
    "\n",
    "- Comments need to be in **english**.\n",
    "\n",
    "- The deliverable must be a file named **P6_Student1_Student2.zip** that includes:\n",
    "    - The notebook P6_Student1_Student2.ipynb completed with the solutions to the exercises and their corresponding comments.\n",
    "    - All the images used in this notebook.\n",
    "\n",
    "**Deadline (Campus Virtual): December 26, 23:59 h** "
   ]
  },
  {
   "cell_type": "markdown",
   "metadata": {},
   "source": [
    "## Haar-like features applied for face detection\n",
    "\n",
    "Today's exercices will practise the following:\n",
    "\n",
    "- Integral images and a classical use for fast harr-like feature computation.\n",
    " - Use of Adaboost for classification.\n",
    "- Decisions based on a user-defined threshold for balancing precision and recall."
   ]
  },
  {
   "cell_type": "code",
   "execution_count": 1,
   "metadata": {},
   "outputs": [],
   "source": [
    "# Some useful imports for the exercises\n",
    "import numpy as np\n",
    "import os\n",
    "from skimage import io\n",
    "import matplotlib\n",
    "from PIL import Image\n",
    "from multiprocessing import Pool\n",
    "from functools import partial\n",
    "import time\n",
    "import timeit\n",
    "from matplotlib import pyplot as plt\n",
    "\n",
    "from sklearn.decomposition import PCA\n",
    "\n",
    "%matplotlib inline"
   ]
  },
  {
   "cell_type": "markdown",
   "metadata": {},
   "source": [
    "**1) Build a function `to_integral_image` that computes the integral image of an input (2D) array.**\n",
    "\n",
    "The integral image must have an additional row and column full of zeros (first row and first column).\n",
    "Make sure that the values of the integral image are correct.\n",
    "\n",
    "```python\n",
    " def to_integral_image(img_arr):\n",
    "    row_sum = np.zeros(img_arr.shape)\n",
    "    integral_image_arr = np.zeros((img_arr.shape[0] + 1, img_arr.shape[1] + 1))\n",
    "    # Add here code\n",
    "    \n",
    "    return integral_image_arr\n",
    "```\n",
    "\n",
    "\n",
    "You can make the following tests:\n",
    " \n",
    " - `sum(img_array) == ii_img_array[-1,-1]`\n",
    " - `img_array[0,:].sum() == ii_img_array[1,-1]`\n",
    " \n",
    "Plot the output of the integral image for the following array:\n",
    "\n",
    "```\n",
    "img_array = np.array([[1,2,2,2,1],[1,2,2,2,1],[1,2,2,2,1],[1,2,2,2,1]])\n",
    "```\n",
    "\n",
    "\n"
   ]
  },
  {
   "cell_type": "code",
   "execution_count": 2,
   "metadata": {},
   "outputs": [
    {
     "data": {
      "text/plain": [
       "<matplotlib.image.AxesImage at 0x7fa8fcdb4128>"
      ]
     },
     "execution_count": 2,
     "metadata": {},
     "output_type": "execute_result"
    },
    {
     "data": {
      "image/png": "[encoded data removed]",
      "text/plain": [
       "<Figure size 432x288 with 1 Axes>"
      ]
     },
     "metadata": {
      "needs_background": "light"
     },
     "output_type": "display_data"
    }
   ],
   "source": [
    "img_array = np.array([[1,2,2,2,1],[1,2,2,2,1],[1,2,2,2,1],[1,2,2,2,1]])\n",
    "img_array.shape\n",
    "plt.imshow(img_array, cmap=\"gray\", vmin=0, vmax= 5)"
   ]
  },
  {
   "cell_type": "code",
   "execution_count": 3,
   "metadata": {},
   "outputs": [],
   "source": [
    "def to_integral_image(img_arr):\n",
    "    \"\"\"\n",
    "    Calculates the integral image based on this instance's original image data.\n",
    "    :param img_arr: Image source data\n",
    "    :type img_arr: numpy.ndarray\n",
    "    :return Integral image for given image\n",
    "    :rtype: numpy.ndarray\n",
    "    \"\"\"\n",
    "    # an index of -1 refers to the last row/column\n",
    "    # since row_sum is calculated starting from (0,0),\n",
    "    # rowSum(x, -1) == 0 holds for all x\n",
    "    row_sum = np.zeros(img_arr.shape)\n",
    "    # we need an additional column and row\n",
    "    integral_image_arr = np.zeros((img_arr.shape[0] + 1, img_arr.shape[1] + 1))\n",
    "    \n",
    "    # Iterate over rows\n",
    "    for x in range(img_arr.shape[1]):\n",
    "        # Iterate over cols\n",
    "        for y in range(img_arr.shape[0]):\n",
    "            # Sum the preview value and the actual value\n",
    "            row_sum[y, x] = row_sum[y-1, x] + img_arr[y, x]\n",
    "            #In the next value we save the value of the next column plus the actual value from row sum\n",
    "            integral_image_arr[y+1, x+1] = integral_image_arr[y+1, x] + row_sum[y, x]\n",
    "            \n",
    "    return integral_image_arr\n",
    "\n"
   ]
  },
  {
   "cell_type": "code",
   "execution_count": 4,
   "metadata": {},
   "outputs": [
    {
     "data": {
      "text/plain": [
       "<matplotlib.image.AxesImage at 0x7fa8f93bec50>"
      ]
     },
     "execution_count": 4,
     "metadata": {},
     "output_type": "execute_result"
    },
    {
     "data": {
      "image/png": "[encoded data removed]",
      "text/plain": [
       "<Figure size 432x288 with 1 Axes>"
      ]
     },
     "metadata": {
      "needs_background": "light"
     },
     "output_type": "display_data"
    }
   ],
   "source": [
    "ii_img_array = to_integral_image(img_array)\n",
    "plt.imshow(ii_img_array, cmap=\"gray\")"
   ]
  },
  {
   "cell_type": "markdown",
   "metadata": {},
   "source": [
    "**2) Build a function to compute the sum of the pixel intensities within a rectangle using the integral image. The rectangle will be defined using the top left (x, y) and bottom right (x, y) coordinates.**\n",
    "\n",
    "Make the function with the following header:\n",
    "```\n",
    "def sum_region(integral_img_arr, top_left, bottom_right):\n",
    "```\n"
   ]
  },
  {
   "cell_type": "code",
   "execution_count": 5,
   "metadata": {},
   "outputs": [],
   "source": [
    "def sum_region(integral_img_arr, top_left, bottom_right):\n",
    "    ### write it!\n",
    "    # Get points\n",
    "    top, left = top_left\n",
    "    bottom, right = bottom_right    \n",
    "    \n",
    "    corner_A = integral_img_arr[top, left]\n",
    "    corner_B = integral_img_arr[top, right]\n",
    "    corner_C = integral_img_arr[bottom, left]\n",
    "    corner_D = integral_img_arr[bottom, right]\n",
    "    \n",
    "    return corner_D - corner_B - (corner_C - corner_A)        "
   ]
  },
  {
   "cell_type": "code",
   "execution_count": 6,
   "metadata": {},
   "outputs": [
    {
     "data": {
      "text/plain": [
       "12.0"
      ]
     },
     "execution_count": 6,
     "metadata": {},
     "output_type": "execute_result"
    }
   ],
   "source": [
    "# result you should get (12)\n",
    "sum_region(ii_img_array, [1,1],[3,4])"
   ]
  },
  {
   "cell_type": "code",
   "execution_count": 7,
   "metadata": {},
   "outputs": [
    {
     "data": {
      "text/plain": [
       "32.0"
      ]
     },
     "execution_count": 7,
     "metadata": {},
     "output_type": "execute_result"
    }
   ],
   "source": [
    "# result you should get (32)\n",
    "sum_region(ii_img_array, [0,0],[-1,-1])"
   ]
  },
  {
   "cell_type": "markdown",
   "metadata": {
    "collapsed": true
   },
   "source": [
    "**3) Compute the integral image for all the following images:**\n",
    "    \n",
    "- training images of faces: save results in **`faces_ii_training`**\n",
    "- testing images of face: save the results in **`faces_ii_testing`**\n",
    "- training images of non faces: **`non_faces_ii_training`**\n",
    "- testing images of non faces:  **`non_faces_ii_testing`**\n",
    "\n",
    "To do so build a function to read all the images inside a given folder:\n",
    "\n",
    "```python\n",
    "def load_images(path):\n",
    "    images = []\n",
    "    for _file in os.listdir(path):\n",
    "       #### Read image\n",
    "       #### Remember to scale the image (wih the max pixel intensity value)\n",
    "     \n",
    "    return images\n",
    " ```"
   ]
  },
  {
   "cell_type": "code",
   "execution_count": 8,
   "metadata": {},
   "outputs": [],
   "source": [
    "pos_training_path = 'trainingdata/faces'\n",
    "neg_training_path = 'trainingdata/nonfaces'\n",
    "pos_testing_path = 'trainingdata/faces/test'\n",
    "neg_testing_path = 'trainingdata/nonfaces/test'"
   ]
  },
  {
   "cell_type": "code",
   "execution_count": 9,
   "metadata": {
    "scrolled": true
   },
   "outputs": [],
   "source": [
    "def load_images(path):\n",
    "    images = []\n",
    "    # Iterate over all the files in directory\n",
    "    for file in os.listdir(path):\n",
    "        # Only take images end with png\n",
    "        if file.endswith(\".png\") :     \n",
    "            # Get image\n",
    "            img = io.imread(path + \"/\" + file)\n",
    "            # Normalize the image\n",
    "            img = img  / img.max()\n",
    "            # Get integral image and save it\n",
    "            images.append(to_integral_image(img))\n",
    "    return images"
   ]
  },
  {
   "cell_type": "code",
   "execution_count": 10,
   "metadata": {},
   "outputs": [],
   "source": [
    "faces_ii_training = load_images(pos_training_path) # Training faces\n",
    "faces_ii_testing = load_images(pos_testing_path) # Testing faces\n",
    "non_faces_ii_training = load_images(neg_training_path) # Training no faces\n",
    "non_faces_ii_testing = load_images(neg_testing_path) # Testing no faces"
   ]
  },
  {
   "cell_type": "code",
   "execution_count": 11,
   "metadata": {},
   "outputs": [
    {
     "data": {
      "text/plain": [
       "39"
      ]
     },
     "execution_count": 11,
     "metadata": {},
     "output_type": "execute_result"
    }
   ],
   "source": [
    "len(faces_ii_training)"
   ]
  },
  {
   "cell_type": "markdown",
   "metadata": {},
   "source": [
    "**4) Compute the Haar features of an image**\n",
    "\n",
    "The code given will use the  `sum_region` function you have implemented to compute Haar-like features.\n",
    "The following code, for example, will compute a vertical Haar-like feature\n",
    "```python\n",
    "    first = sum_region(int_img, \n",
    "                      self.top_left, \n",
    "                      (self.top_left[0] + self.width, int(self.top_left[1] + self.height / 2)))\n",
    "    second = sum_region(int_img, \n",
    "                       (self.top_left[0], int(self.top_left[1] + self.height / 2)),\n",
    "                       self.bottom_right)\n",
    "    score = first - second\n",
    "```\n",
    "\n",
    "We provide you with `HaarLikeFeature` class that has build in a `get_score` function and a `get_vote` function.\n",
    "\n",
    "Your job is to \n",
    "```python\n",
    "def _create_features(img_height, img_width, min_feature_width, max_feature_width, min_feature_height, max_feature_height):\n",
    "    print('Creating Haar-like features..')\n",
    "    t0 = time.time()\n",
    "    features = []\n",
    "    for feature in FeatureTypes:\n",
    "        # FeatureTypes are just tuples\n",
    "        feature_start_width = max(min_feature_width, feature[0])\n",
    "        for feature_width in range(feature_start_width, max_feature_width, feature[0]):\n",
    "            feature_start_height = max(min_feature_height, feature[1])\n",
    "            for feature_height in range(feature_start_height, max_feature_height, feature[1]):\n",
    "                # Loop over possible x values and y values \n",
    "                # - For each (x,y) create the HarrLikeFeature objects.\n",
    "                # - append the HaarlikeFeatures in the features list.\n",
    "                # Notice that Haarlike features contain polarity, append features for polarity 1 and -1\n",
    "                # The threshold can be set to 0 for all of them.\n",
    "                \n",
    "                \n",
    "    print('\\t' + str(len(features)) + ' features created.')\n",
    "    print('\\tTime needed for calculating Harr-like features:', time.time()-t0)\n",
    "    return features\n",
    "```"
   ]
  },
  {
   "cell_type": "code",
   "execution_count": 12,
   "metadata": {},
   "outputs": [],
   "source": [
    "def enum(**enums):\n",
    "    return type('Enum', (), enums)\n",
    "\n",
    "FeatureType = enum(TWO_VERTICAL=(1, 2), TWO_HORIZONTAL=(2, 1), THREE_HORIZONTAL=(3, 1), THREE_VERTICAL=(1, 3), FOUR=(2, 2))\n",
    "FeatureTypes = [FeatureType.TWO_VERTICAL, FeatureType.TWO_HORIZONTAL, FeatureType.THREE_VERTICAL, FeatureType.THREE_HORIZONTAL, FeatureType.FOUR]\n",
    "\n",
    "class HaarLikeFeature(object):\n",
    "    \"\"\"\n",
    "    Class representing a haar-like feature.\n",
    "    \"\"\"\n",
    "\n",
    "    def __init__(self, feature_type, position, width, height, threshold, polarity):\n",
    "        \"\"\"\n",
    "        Creates a new haar-like feature.\n",
    "        :param feature_type: Type of new feature, see FeatureType enum\n",
    "        :type feature_type: violajonse.HaarLikeFeature.FeatureTypes\n",
    "        :param position: Top left corner where the feature begins (x, y)\n",
    "        :type position: (int, int)\n",
    "        :param width: Width of the feature\n",
    "        :type width: int\n",
    "        :param height: Height of the feature\n",
    "        :type height: int\n",
    "        :param threshold: Feature threshold\n",
    "        :type threshold: float\n",
    "        :param polarity: polarity of the feature -1 or 1\n",
    "        :type polarity: int\n",
    "        \"\"\"\n",
    "        self.type = feature_type\n",
    "        self.top_left = position\n",
    "        self.bottom_right = (position[0] + width, position[1] + height)\n",
    "        self.width = width\n",
    "        self.height = height\n",
    "        self.threshold = threshold\n",
    "        self.polarity = polarity\n",
    "        self.weight = 1\n",
    "    \n",
    "    def get_score(self, int_img):\n",
    "        \"\"\"\n",
    "        Get score for given integral image array.\n",
    "        :param int_img: Integral image array\n",
    "        :type int_img: numpy.ndarray\n",
    "        :return: Score for given feature\n",
    "        :rtype: float\n",
    "        \"\"\"\n",
    "        score = 0\n",
    "        if self.type == FeatureType.TWO_VERTICAL:\n",
    "            first = sum_region(int_img, self.top_left, (self.top_left[0] + self.width, int(self.top_left[1] + self.height / 2)))\n",
    "            second = sum_region(int_img, (self.top_left[0], int(self.top_left[1] + self.height / 2)), self.bottom_right)\n",
    "            score = first - second\n",
    "        elif self.type == FeatureType.TWO_HORIZONTAL:\n",
    "            first = sum_region(int_img, self.top_left, (int(self.top_left[0] + self.width / 2), self.top_left[1] + self.height))\n",
    "            second = sum_region(int_img, (int(self.top_left[0] + self.width / 2), self.top_left[1]), self.bottom_right)\n",
    "            score = first - second\n",
    "        elif self.type == FeatureType.THREE_HORIZONTAL:\n",
    "            first = sum_region(int_img, self.top_left, (int(self.top_left[0] + self.width / 3), self.top_left[1] + self.height))\n",
    "            second = sum_region(int_img, (int(self.top_left[0] + self.width / 3), self.top_left[1]), (int(self.top_left[0] + 2 * self.width / 3), self.top_left[1] + self.height))\n",
    "            third = sum_region(int_img, (int(self.top_left[0] + 2 * self.width / 3), self.top_left[1]), self.bottom_right)\n",
    "            score = first - second + third\n",
    "        elif self.type == FeatureType.THREE_VERTICAL:\n",
    "            first = sum_region(int_img, self.top_left, (self.bottom_right[0], int(self.top_left[1] + self.height / 3)))\n",
    "            second = sum_region(int_img, (self.top_left[0], int(self.top_left[1] + self.height / 3)), (self.bottom_right[0], int(self.top_left[1] + 2 * self.height / 3)))\n",
    "            third = sum_region(int_img, (self.top_left[0], int(self.top_left[1] + 2 * self.height / 3)), self.bottom_right)\n",
    "            score = first - second + third\n",
    "        elif self.type == FeatureType.FOUR:\n",
    "            # top left area\n",
    "            first = sum_region(int_img, self.top_left, (int(self.top_left[0] + self.width / 2), int(self.top_left[1] + self.height / 2)))\n",
    "            # top right area\n",
    "            second = sum_region(int_img, (int(self.top_left[0] + self.width / 2), self.top_left[1]), (self.bottom_right[0], int(self.top_left[1] + self.height / 2)))\n",
    "            # bottom left area\n",
    "            third = sum_region(int_img, (self.top_left[0], int(self.top_left[1] + self.height / 2)), (int(self.top_left[0] + self.width / 2), self.bottom_right[1]))\n",
    "            # bottom right area\n",
    "            fourth = sum_region(int_img, (int(self.top_left[0] + self.width / 2), int(self.top_left[1] + self.height / 2)), self.bottom_right)\n",
    "            score = first - second - third + fourth\n",
    "        return score\n",
    "    \n",
    "    def get_vote(self, int_img):\n",
    "        \"\"\"\n",
    "        Get vote of this feature for given integral image.\n",
    "        :param int_img: Integral image array\n",
    "        :type int_img: numpy.ndarray\n",
    "        :return: 1 iff this feature votes positively, otherwise -1\n",
    "        :rtype: int\n",
    "        \"\"\"\n",
    "        score = self.get_score(int_img)\n",
    "        return self.weight * (1 if score < self.polarity * self.threshold else -1)\n"
   ]
  },
  {
   "cell_type": "code",
   "execution_count": 13,
   "metadata": {},
   "outputs": [],
   "source": [
    "\n",
    "def learn(positive_iis, negative_iis, num_classifiers=-1, min_feature_width=1, max_feature_width=-1, min_feature_height=1, max_feature_height=-1):\n",
    "    \"\"\"\n",
    "    Selects a set of classifiers. Iteratively takes the best classifiers based\n",
    "    on a weighted error.\n",
    "    :param positive_iis: List of positive integral image examples\n",
    "    :type positive_iis: list[numpy.ndarray]\n",
    "    :param negative_iis: List of negative integral image examples\n",
    "    :type negative_iis: list[numpy.ndarray]\n",
    "    :param num_classifiers: Number of classifiers to select, -1 will use all\n",
    "    classifiers\n",
    "    :type num_classifiers: int\n",
    "    :return: List of selected features\n",
    "    :rtype: list[violajones.HaarLikeFeature.HaarLikeFeature]\n",
    "    \"\"\"\n",
    "    num_pos = len(positive_iis)\n",
    "    num_neg = len(negative_iis)\n",
    "    num_imgs = num_pos + num_neg\n",
    "    img_height, img_width = positive_iis[0].shape\n",
    "\n",
    "    # Maximum feature width and height default to image width and height\n",
    "    max_feature_height = img_height if max_feature_height == -1 else max_feature_height\n",
    "    max_feature_width = img_width if max_feature_width == -1 else max_feature_width\n",
    "\n",
    "    # Create initial weights and labels\n",
    "    pos_weights = np.ones(num_pos) * 1. / (2 * num_pos)\n",
    "    neg_weights = np.ones(num_neg) * 1. / (2 * num_neg)\n",
    "    weights = np.hstack((pos_weights, neg_weights))\n",
    "    labels = np.hstack((np.ones(num_pos), np.ones(num_neg) * -1))\n",
    "\n",
    "    images = positive_iis + negative_iis\n",
    "\n",
    "    # Create features for all sizes and locations\n",
    "    features = _create_features(img_height, img_width, min_feature_width, max_feature_width, min_feature_height, max_feature_height)\n",
    "    num_features = len(features)\n",
    "    feature_indexes = list(range(num_features))\n",
    "\n",
    "    num_classifiers = num_features if num_classifiers == -1 else num_classifiers\n",
    "\n",
    "    print('Calculating scores for images..')\n",
    "    t0 = time.time()\n",
    "    votes = np.zeros((num_imgs, num_features))\n",
    "    # Use as many workers as there are CPUs\n",
    "    pool = Pool(processes=None)\n",
    "    for i in range(num_imgs):\n",
    "        votes[i, :] = np.array(list(pool.map(partial(_get_feature_vote, image=images[i]), features)))\n",
    "\n",
    "    \n",
    "    print('\\tTime needed for calculating scores:', time.time()-t0)\n",
    "    \n",
    "    # select classifiers\n",
    "    classifiers = []\n",
    "\n",
    "    t0 = time.time()\n",
    "    print('Selecting classifiers..')\n",
    "    for _ in range(num_classifiers):\n",
    "\n",
    "        classification_errors = np.zeros(len(feature_indexes))\n",
    "\n",
    "        # normalize weights\n",
    "        weights *= 1. / np.sum(weights)\n",
    "\n",
    "        # select best classifier based on the weighted error\n",
    "        for f in range(len(feature_indexes)):\n",
    "            f_idx = feature_indexes[f]\n",
    "            # classifier error is the sum of image weights where the classifier\n",
    "            # is right\n",
    "            error = sum(map(lambda img_idx: weights[img_idx] if labels[img_idx] != votes[img_idx, f_idx] else 0, range(num_imgs)))\n",
    "            classification_errors[f] = error\n",
    "\n",
    "        # get best feature, i.e. with smallest error\n",
    "        min_error_idx = np.argmin(classification_errors)\n",
    "        best_error = classification_errors[min_error_idx]\n",
    "        best_feature_idx = feature_indexes[min_error_idx]\n",
    "\n",
    "        # set feature weight\n",
    "        best_feature = features[best_feature_idx]\n",
    "        feature_weight = 0.5 * np.log((1 - best_error) / best_error)\n",
    "        best_feature.weight = feature_weight\n",
    "\n",
    "        classifiers.append(best_feature)\n",
    "\n",
    "        # update image weights\n",
    "        weights = np.array(list(map(lambda img_idx: weights[img_idx] * np.sqrt((1-best_error)/best_error) if labels[img_idx] != votes[img_idx, best_feature_idx] else weights[img_idx] * np.sqrt(best_error/(1-best_error)), range(num_imgs))))\n",
    "\n",
    "        # remove feature (a feature can't be selected twice)\n",
    "        feature_indexes.remove(best_feature_idx)\n",
    "\n",
    "    print('\\tTime needed for Selecting Classifiers:', time.time()-t0,'\\n')\n",
    "\n",
    "\n",
    "    return classifiers\n",
    "\n",
    "def _get_feature_vote(feature, image):\n",
    "    return feature.get_vote(image)\n",
    "\n",
    "def _create_features(img_height, img_width, min_feature_width, max_feature_width, min_feature_height, max_feature_height):\n",
    "    \n",
    "    print('Creating Haar-like features..')\n",
    "    t0 = time.time()\n",
    "    features = []\n",
    "    for feature in FeatureTypes:\n",
    "        # FeatureTypes are just tuples\n",
    "        feature_start_width = max(min_feature_width, feature[0])\n",
    "        for feature_width in range(feature_start_width, max_feature_width, feature[0]):\n",
    "            feature_start_height = max(min_feature_height, feature[1])\n",
    "            for feature_height in range(feature_start_height, max_feature_height, feature[1]):\n",
    "                \n",
    "                # We iterate over the image (sliding window method)\n",
    "                for i in range(img_width - feature_width):\n",
    "                    for j in range(img_height - feature_height):\n",
    "                        \n",
    "                        # We get the HAAR features for both polarities\n",
    "                        feature_1 = HaarLikeFeature(feature, (i, j), feature_width, feature_height, 0, 1)\n",
    "                        feature_2 = HaarLikeFeature(feature, (i, j), feature_width, feature_height, 0, -1)\n",
    "                         \n",
    "                        # We append the new features to the \"features\" list\n",
    "                        features.append(feature_1)\n",
    "                        features.append(feature_2)\n",
    "            \n",
    "    print('\\t' + str(len(features)) + ' features created.')\n",
    "    print('\\tTime needed for calculating Harr-like features:', time.time()-t0)\n",
    "    return features\n"
   ]
  },
  {
   "cell_type": "markdown",
   "metadata": {},
   "source": [
    "**5)Use the learn method to learn a list of classifiers with the train data**\n",
    "\n",
    "With the `learn` function you can build a list of classifiers that detect whether an image contains a face or not.\n",
    "\n",
    "Use the following hyperparameters of the features and `num_classifiers`."
   ]
  },
  {
   "cell_type": "code",
   "execution_count": 14,
   "metadata": {},
   "outputs": [],
   "source": [
    "num_classifiers = 2\n",
    "min_feature_height = 8\n",
    "max_feature_height = 10\n",
    "min_feature_width = 8\n",
    "max_feature_width = 10"
   ]
  },
  {
   "cell_type": "code",
   "execution_count": 15,
   "metadata": {},
   "outputs": [
    {
     "name": "stdout",
     "output_type": "stream",
     "text": [
      "Creating Haar-like features..\n",
      "\t2496 features created.\n",
      "\tTime needed for calculating Harr-like features: 0.0027990341186523438\n",
      "Calculating scores for images..\n",
      "\tTime needed for calculating scores: 1.1609387397766113\n",
      "Selecting classifiers..\n",
      "\tTime needed for Selecting Classifiers: 0.2648437023162842 \n",
      "\n",
      "CPU times: user 784 ms, sys: 42 ms, total: 826 ms\n",
      "Wall time: 1.43 s\n"
     ]
    }
   ],
   "source": [
    "%%time\n",
    "# We train a list of classifiers to be able to detect if an image contains a face or not\n",
    "classifiers = learn(faces_ii_training, non_faces_ii_training, num_classifiers, min_feature_width, max_feature_width, min_feature_height, max_feature_height)"
   ]
  },
  {
   "cell_type": "markdown",
   "metadata": {},
   "source": [
    "**6) Make a function for voting with different classifiers**\n",
    "\n",
    "Build two functions `ensemble_vote` and `ensemble_vote_all`.\n",
    "\n",
    "- `ensemble_vote(int_img, classifiers)` has to return a 1 if the majority of the votes of the classifiers is positive and a zero otherwise\n",
    "\n",
    "- `ensemble_vote_all(int_imgs, classifiers)` has to loop over the list `int_imgs` and compute the `ensemble_vote` for each image in the list. It has to return a list containing all the votes for all the images in  `int_imgs`.\n",
    "\n",
    "Use the functions to compute the train and test acurracies for faces and non faces.\n",
    "\n",
    "Print the results in the following format:\n",
    "```\n",
    "train results:\n",
    "Correctly identified Faces: 2129/2429  (87.64923836969946%)\n",
    "Correctly identified non-Faces: 4276/8548  (50.02339728591484%)\n",
    "\n",
    "test results:\n",
    "Correctly identified Faces: 300/472  (63.559322033898304%)\n",
    "Correctly identified non-Faces: 74/128  (57.8125%)\n",
    "```\n",
    "\n",
    "It is not required to get this exact results but print the information in this format. It facilitates understanding the results."
   ]
  },
  {
   "cell_type": "code",
   "execution_count": 16,
   "metadata": {},
   "outputs": [],
   "source": [
    "def ensemble_vote(int_img, classifiers):\n",
    "    \n",
    "    # We get the votes for every classifier in \"classifiers\"\n",
    "    votes = [classifier.get_vote(int_img) for classifier in classifiers]\n",
    "    \n",
    "    # We count the positive and negative votes\n",
    "    num_pos, num_neg = 0, 0\n",
    "    for vote in votes:\n",
    "        \n",
    "        if vote > 0:\n",
    "            num_pos += 1\n",
    "        else:\n",
    "            num_neg += 1\n",
    "            \n",
    "    # If the majority of all votes is positive, we return 1\n",
    "    if num_pos > num_neg:\n",
    "        return 1\n",
    "    \n",
    "    # Otherwise, we return 0\n",
    "    else:\n",
    "        return 0"
   ]
  },
  {
   "cell_type": "code",
   "execution_count": 17,
   "metadata": {},
   "outputs": [],
   "source": [
    "def ensemble_vote_all(int_imgs, classifiers):\n",
    "\n",
    "    # We return a list containing all ensemble_vote values for each image in \"int_imgs\"\n",
    "    return [ensemble_vote(img, classifiers) for img in int_imgs]"
   ]
  },
  {
   "cell_type": "code",
   "execution_count": 18,
   "metadata": {},
   "outputs": [],
   "source": [
    "# We save the training and the testing images in a dictionary called \"img_collections\"\n",
    "img_collections = {\"train\" : (faces_ii_training, non_faces_ii_training),\n",
    "                  \"test\" : (faces_ii_testing, non_faces_ii_testing)}"
   ]
  },
  {
   "cell_type": "code",
   "execution_count": 19,
   "metadata": {},
   "outputs": [],
   "source": [
    "# The \"compute_accuracies\" function takes an image collection\n",
    "# and the trained classifiers as parameters.\n",
    "\n",
    "# It returns the accuracies for face and non-face in the train \n",
    "# and the test image collections.\n",
    "\n",
    "def compute_accuracies(img_collections, classifiers):\n",
    "    \n",
    "    # We take the name (\"name\") and the image collection's images (\"(faces_ii_..., non_faces_ii_...)\")\n",
    "    for name, images in img_collections.items():\n",
    "        \n",
    "        # We get the votes for the \"faces\"\n",
    "        votes_1 = ensemble_vote_all(images[0], classifiers)\n",
    "        # We get the votes for the \"non_faces\"\n",
    "        votes_2 = ensemble_vote_all(images[1], classifiers)\n",
    "        \n",
    "        # We count the votes for the \"faces\"\n",
    "        count_votes_1 = votes_1.count(1)\n",
    "         # We count the votes for the \"non_faces\"\n",
    "        count_votes_2 = votes_2.count(0)\n",
    "        \n",
    "        # We calculate the percentage of \"faces\"\n",
    "        percentage_1 = count_votes_1 * 100 / len(votes_1)\n",
    "        # We calculate the percentage of \"non_faces\"\n",
    "        percentage_2 = count_votes_2 * 100 / len(votes_2)\n",
    "        \n",
    "        # We print the results\n",
    "        print(f\"{name} results:\")\n",
    "        print(f\"Correctly identified Faces: {count_votes_1}/{len(votes_1)}  ({percentage_1}%)\")\n",
    "        print(f\"Correctly identified Non-Faces: {count_votes_2}/{len(votes_2)}  ({percentage_1}%)\\n\")"
   ]
  },
  {
   "cell_type": "code",
   "execution_count": 20,
   "metadata": {},
   "outputs": [
    {
     "name": "stdout",
     "output_type": "stream",
     "text": [
      "train results:\n",
      "Correctly identified Faces: 37/39  (94.87179487179488%)\n",
      "Correctly identified Non-Faces: 25/29  (94.87179487179488%)\n",
      "\n",
      "test results:\n",
      "Correctly identified Faces: 17/30  (56.666666666666664%)\n",
      "Correctly identified Non-Faces: 13/20  (56.666666666666664%)\n",
      "\n"
     ]
    }
   ],
   "source": [
    "compute_accuracies(img_collections, classifiers)"
   ]
  },
  {
   "cell_type": "markdown",
   "metadata": {},
   "source": [
    "**7) Make another test with 20 classifiers instead of 2**\n",
    "\n",
    "Inspect the classification results if you use adaboost with 20 classifiers. Use the same hyperameters for the features.\n",
    "Print the results as in the previous exercise:\n",
    "\n",
    "```\n",
    "train results:\n",
    "Correctly identified Faces: 2256/2429  (92.87772745986003%)\n",
    "Correctly identified non-Faces: 7046/8548  (82.42863827795975%)\n",
    "\n",
    "test results:\n",
    "Correctly identified Faces: 285/472  (60.381355932203384%)\n",
    "Correctly identified non-Faces: 104/128  (81.25%)\n",
    "```\n",
    "\n",
    "- Do the classification results improved in the train data? Yes, we now get a 100% of accuracy.\n",
    "\n"
   ]
  },
  {
   "cell_type": "code",
   "execution_count": 21,
   "metadata": {},
   "outputs": [],
   "source": [
    "num_classifiers = 20\n",
    "min_feature_height = 8\n",
    "max_feature_height = 10\n",
    "min_feature_width = 8\n",
    "max_feature_width = 10"
   ]
  },
  {
   "cell_type": "code",
   "execution_count": 22,
   "metadata": {},
   "outputs": [
    {
     "name": "stdout",
     "output_type": "stream",
     "text": [
      "Creating Haar-like features..\n",
      "\t2496 features created.\n",
      "\tTime needed for calculating Harr-like features: 0.0039119720458984375\n",
      "Calculating scores for images..\n",
      "\tTime needed for calculating scores: 1.0739290714263916\n",
      "Selecting classifiers..\n",
      "\tTime needed for Selecting Classifiers: 2.5879170894622803 \n",
      "\n",
      "CPU times: user 2.9 s, sys: 59.5 ms, total: 2.96 s\n",
      "Wall time: 3.67 s\n"
     ]
    }
   ],
   "source": [
    "%%time\n",
    "classifiers_20 = learn(faces_ii_training, non_faces_ii_training, num_classifiers, min_feature_width, max_feature_width, min_feature_height, max_feature_height)"
   ]
  },
  {
   "cell_type": "code",
   "execution_count": 23,
   "metadata": {},
   "outputs": [
    {
     "name": "stdout",
     "output_type": "stream",
     "text": [
      "train results:\n",
      "Correctly identified Faces: 39/39  (100.0%)\n",
      "Correctly identified Non-Faces: 29/29  (100.0%)\n",
      "\n",
      "test results:\n",
      "Correctly identified Faces: 19/30  (63.333333333333336%)\n",
      "Correctly identified Non-Faces: 11/20  (63.333333333333336%)\n",
      "\n"
     ]
    }
   ],
   "source": [
    "compute_accuracies(img_collections, classifiers_20)"
   ]
  },
  {
   "cell_type": "markdown",
   "metadata": {},
   "source": [
    "**8) Change the voting functions so that you can set a threshold for deciding a prediction**\n",
    "\n",
    "The threshold value indicates the minimum score for assigning a \"positive\" label (detect a face).\n",
    "\n",
    "Create the following functions\n",
    "\n",
    "- `ensemble_vote_t`: returns the final decision of a list of classifiers for a given threshold.\n",
    "- `ensemble_vote_all_t`: Iterates over a list of integral images and returns the  final decision of a list of classifiers for each of the images (for a given threshold).\n",
    "\n",
    "\n",
    "\n",
    "compute the following:\n",
    "\n",
    "- a) number of correct faces over all faces (in the train data)\n",
    "- b) number of correct non faces over all non faces (in the train data)\n",
    "- c) number of correct faces over all faces (in the test data)\n",
    "- d) number of correct non faces over all non faces (in the test data)\n",
    "\n",
    "Using the list of 20 classifiers.\n",
    "\n",
    "\n",
    "The quantities have to be computed for each of the following thresholds:\n",
    "\n",
    "```\n",
    "thresholds = np.array([x for x in range(-5,5,1)])/10.\n",
    "```\n",
    "\n",
    "- Make a bar bar plot for a) b) c) and d). In the x axis write the threshold value. \n",
    "\n",
    "- What happens when you increase the threshold value? We get correctly identified less faces but more non_faces with both train and test."
   ]
  },
  {
   "cell_type": "code",
   "execution_count": 24,
   "metadata": {},
   "outputs": [],
   "source": [
    "thresholds = np.array([x for x in range(-5,5,1)])/10."
   ]
  },
  {
   "cell_type": "code",
   "execution_count": 25,
   "metadata": {},
   "outputs": [],
   "source": [
    "correct_faces_train_t = []\n",
    "correct_non_faces_train_t = []\n",
    "correct_faces_test_t = []\n",
    "correct_non_faces_test_t = []"
   ]
  },
  {
   "cell_type": "code",
   "execution_count": 26,
   "metadata": {},
   "outputs": [],
   "source": [
    "def ensemble_score(int_img, classifiers):\n",
    "    \n",
    "    return sum([c.get_vote(int_img) for c in classifiers])\n",
    "\n",
    "def ensemble_vote_t(int_img, classifiers,t):\n",
    "    \n",
    "    # We get the score for the \"int_img\"\n",
    "    score = ensemble_score(int_img, classifiers)\n",
    "    \n",
    "    # We return True if the score is higher than our threshold\n",
    "    return score > t\n",
    "\n",
    "def ensemble_vote_all_t(int_imgs, classifiers,t=-0.1):\n",
    "    \n",
    "    # We get the votes for all images in \"int_imgs\"\n",
    "    votes = [ensemble_vote_t(img, classifiers, t) for img in int_imgs]\n",
    "    \n",
    "    # We return them\n",
    "    return votes"
   ]
  },
  {
   "cell_type": "code",
   "execution_count": 27,
   "metadata": {},
   "outputs": [],
   "source": [
    "def compute_accuracies_t(img_collections, classifiers, t):\n",
    "    \n",
    "    # \"values\" is the list where we're going to save the number \n",
    "    # of votes for \"faces\" and \"no_faces\" for both training and testing images\n",
    "    values = {}\n",
    "    \n",
    "    # We take the name (\"name\") and the image collection's images (\"(faces_ii_..., non_faces_ii_...)\")\n",
    "    for name, images in img_collections.items():\n",
    "        \n",
    "        # We get the votes for the \"faces\" using the threshold\n",
    "        votes_1 = ensemble_vote_all_t(images[0], classifiers, t)\n",
    "        # We get the votes for the \"non_faces\" using the threshold\n",
    "        votes_2 = ensemble_vote_all_t(images[1], classifiers, t)\n",
    "        \n",
    "        # We count the votes for the \"faces\"\n",
    "        count_votes_1 = votes_1.count(True)\n",
    "        # We count the votes for the \"non_faces\"\n",
    "        count_votes_2 = votes_2.count(False)\n",
    "        \n",
    "        # We print the results\n",
    "        print(f\"{name} results:\")\n",
    "        print(f\"Correctly identified Faces: {count_votes_1}/{len(votes_1)}\")\n",
    "        print(f\"Correctly identified Non-Faces: {count_votes_2}/{len(votes_2)}\\n\")\n",
    "        \n",
    "        # We append the results to \"values\"\n",
    "        values[name] = (count_votes_1, count_votes_2)\n",
    "    \n",
    "    # We return the list containing the results\n",
    "    return values"
   ]
  },
  {
   "cell_type": "code",
   "execution_count": 28,
   "metadata": {},
   "outputs": [
    {
     "name": "stdout",
     "output_type": "stream",
     "text": [
      "train results:\n",
      "Correctly identified Faces: 39/39\n",
      "Correctly identified Non-Faces: 29/29\n",
      "\n",
      "test results:\n",
      "Correctly identified Faces: 25/30\n",
      "Correctly identified Non-Faces: 8/20\n",
      "\n"
     ]
    },
    {
     "data": {
      "text/plain": [
       "{'train': (39, 29), 'test': (25, 8)}"
      ]
     },
     "execution_count": 28,
     "metadata": {},
     "output_type": "execute_result"
    }
   ],
   "source": [
    "compute_accuracies_t(img_collections, classifiers_20, -0.5)"
   ]
  },
  {
   "cell_type": "code",
   "execution_count": 29,
   "metadata": {},
   "outputs": [
    {
     "name": "stdout",
     "output_type": "stream",
     "text": [
      "train results:\n",
      "Correctly identified Faces: 39/39\n",
      "Correctly identified Non-Faces: 10/29\n",
      "\n",
      "test results:\n",
      "Correctly identified Faces: 30/30\n",
      "Correctly identified Non-Faces: 0/20\n",
      "\n",
      "train results:\n",
      "Correctly identified Faces: 39/39\n",
      "Correctly identified Non-Faces: 10/29\n",
      "\n",
      "test results:\n",
      "Correctly identified Faces: 30/30\n",
      "Correctly identified Non-Faces: 0/20\n",
      "\n",
      "train results:\n",
      "Correctly identified Faces: 39/39\n",
      "Correctly identified Non-Faces: 10/29\n",
      "\n",
      "test results:\n",
      "Correctly identified Faces: 30/30\n",
      "Correctly identified Non-Faces: 0/20\n",
      "\n",
      "train results:\n",
      "Correctly identified Faces: 39/39\n",
      "Correctly identified Non-Faces: 10/29\n",
      "\n",
      "test results:\n",
      "Correctly identified Faces: 30/30\n",
      "Correctly identified Non-Faces: 0/20\n",
      "\n",
      "train results:\n",
      "Correctly identified Faces: 38/39\n",
      "Correctly identified Non-Faces: 18/29\n",
      "\n",
      "test results:\n",
      "Correctly identified Faces: 29/30\n",
      "Correctly identified Non-Faces: 5/20\n",
      "\n",
      "train results:\n",
      "Correctly identified Faces: 38/39\n",
      "Correctly identified Non-Faces: 18/29\n",
      "\n",
      "test results:\n",
      "Correctly identified Faces: 29/30\n",
      "Correctly identified Non-Faces: 5/20\n",
      "\n",
      "train results:\n",
      "Correctly identified Faces: 38/39\n",
      "Correctly identified Non-Faces: 18/29\n",
      "\n",
      "test results:\n",
      "Correctly identified Faces: 29/30\n",
      "Correctly identified Non-Faces: 5/20\n",
      "\n",
      "train results:\n",
      "Correctly identified Faces: 37/39\n",
      "Correctly identified Non-Faces: 25/29\n",
      "\n",
      "test results:\n",
      "Correctly identified Faces: 17/30\n",
      "Correctly identified Non-Faces: 13/20\n",
      "\n",
      "train results:\n",
      "Correctly identified Faces: 37/39\n",
      "Correctly identified Non-Faces: 25/29\n",
      "\n",
      "test results:\n",
      "Correctly identified Faces: 17/30\n",
      "Correctly identified Non-Faces: 13/20\n",
      "\n",
      "train results:\n",
      "Correctly identified Faces: 37/39\n",
      "Correctly identified Non-Faces: 25/29\n",
      "\n",
      "test results:\n",
      "Correctly identified Faces: 17/30\n",
      "Correctly identified Non-Faces: 13/20\n",
      "\n"
     ]
    }
   ],
   "source": [
    "all_accuracies_t = [compute_accuracies_t(img_collections, classifiers, t) for t in thresholds]"
   ]
  },
  {
   "cell_type": "code",
   "execution_count": 30,
   "metadata": {},
   "outputs": [
    {
     "name": "stdout",
     "output_type": "stream",
     "text": [
      "[{'train': (39, 10), 'test': (30, 0)}, {'train': (39, 10), 'test': (30, 0)}, {'train': (39, 10), 'test': (30, 0)}, {'train': (39, 10), 'test': (30, 0)}, {'train': (38, 18), 'test': (29, 5)}, {'train': (38, 18), 'test': (29, 5)}, {'train': (38, 18), 'test': (29, 5)}, {'train': (37, 25), 'test': (17, 13)}, {'train': (37, 25), 'test': (17, 13)}, {'train': (37, 25), 'test': (17, 13)}]\n"
     ]
    }
   ],
   "source": [
    "print(all_accuracies_t)"
   ]
  },
  {
   "cell_type": "code",
   "execution_count": 31,
   "metadata": {},
   "outputs": [],
   "source": [
    "# We prepare the lists that will contain the values to plot\n",
    "faces_train_t = [dct[\"train\"][0] for dct in all_accuracies_t]\n",
    "non_faces_train_t = [dct[\"train\"][1] for dct in all_accuracies_t]\n",
    "faces_test_t = [dct[\"test\"][0] for dct in all_accuracies_t]\n",
    "non_faces_test_t = [dct[\"test\"][1] for dct in all_accuracies_t]"
   ]
  },
  {
   "cell_type": "code",
   "execution_count": 39,
   "metadata": {},
   "outputs": [
    {
     "data": {
      "text/plain": [
       "Text(0.5, 1.0, 'Test')"
      ]
     },
     "execution_count": 39,
     "metadata": {},
     "output_type": "execute_result"
    },
    {
     "data": {
      "image/png": "[encoded data removed]",
      "text/plain": [
       "<Figure size 1080x864 with 4 Axes>"
      ]
     },
     "metadata": {
      "needs_background": "light"
     },
     "output_type": "display_data"
    }
   ],
   "source": [
    "# We show the different bar plots\n",
    "\n",
    "fig = plt.figure(figsize = (15, 12)) \n",
    "\n",
    "ax = fig.add_subplot(2, 2, 1)\n",
    "ax = plt.bar(thresholds, faces_train_t, color ='orange', width = 0.05) \n",
    "plt.xlabel(\"Thresholds\") \n",
    "plt.ylabel(\"Correctly identified faces\") \n",
    "plt.title(\"Train\")\n",
    "\n",
    "ax = fig.add_subplot(2, 2, 2)\n",
    "ax = plt.bar(thresholds, non_faces_train_t, color ='red', width = 0.05) \n",
    "plt.xlabel(\"Thresholds\") \n",
    "plt.ylabel(\"Correctly identified non-faces\") \n",
    "plt.title(\"Train\")\n",
    "\n",
    "\n",
    "ax = fig.add_subplot(2, 2, 3)\n",
    "ax = plt.bar(thresholds, faces_test_t, color ='orange', width = 0.05) \n",
    "plt.xlabel(\"Thresholds\") \n",
    "plt.ylabel(\"Correctly identified faces\") \n",
    "plt.title(\"Test\")\n",
    "\n",
    "\n",
    "ax = fig.add_subplot(2, 2, 4)\n",
    "ax = plt.bar(thresholds, non_faces_test_t, color ='red', width = 0.05) \n",
    "plt.xlabel(\"Thresholds\") \n",
    "plt.ylabel(\"Correctly identified non-faces\") \n",
    "plt.title(\"Test\")"
   ]
  },
  {
   "cell_type": "markdown",
   "metadata": {},
   "source": [
    "## Face recognition\n",
    "\n",
    "1. Define an appropiate representation\n",
    "\n",
    "2. Train a classifier \n",
    "\n",
    "3. Recognize a new face example"
   ]
  },
  {
   "cell_type": "markdown",
   "metadata": {},
   "source": [
    "**1) Build a new reduced space applying a PCA to the faces and non faces images**\n",
    "\n",
    "Remember we have the following images:\n",
    "\n",
    "- training images of faces\n",
    "- testing images of face\n",
    "- training images of non faces\n",
    "- testing images of non faces"
   ]
  },
  {
   "cell_type": "code",
   "execution_count": 33,
   "metadata": {},
   "outputs": [],
   "source": [
    "def load_images_no_integral(path):\n",
    "    images = []\n",
    "    # Iterate over all the files in directory\n",
    "    for file in os.listdir(path):\n",
    "        # Only take images end with png\n",
    "        if file.endswith(\".png\") :     \n",
    "            # Get image\n",
    "            img = io.imread(path + \"/\" + file)            \n",
    "            # save image\n",
    "            images.append(img)\n",
    "    return images"
   ]
  },
  {
   "cell_type": "code",
   "execution_count": 34,
   "metadata": {},
   "outputs": [
    {
     "name": "stdout",
     "output_type": "stream",
     "text": [
      "(50, 19, 19)\n",
      "19 19\n"
     ]
    }
   ],
   "source": [
    "# Loading images\n",
    "faces_training = load_images_no_integral(pos_training_path) # Training faces\n",
    "faces_testing = load_images_no_integral(pos_testing_path) # Testing faces\n",
    "non_faces_training = load_images_no_integral(neg_training_path) # Training no faces\n",
    "non_faces_testing = load_images_no_integral(neg_testing_path) # Testing no faces\n",
    "\n",
    "X_train = np.array(faces_training + non_faces_training)\n",
    "X_test = np.array(faces_testing + non_faces_testing)\n",
    "\n",
    "y_train = np.array([1] * len(faces_training) + [0] * len(non_faces_training)) # Labels face = 1, non face = 0\n",
    "y_test = np.array([1] * len(faces_testing) + [0] * len(non_faces_testing)) # Labels face = 1, non face = 0\n",
    "\n",
    "nsamples, h, w = X_train.shape\n",
    "print(X_test.shape)\n",
    "print(h, w)\n",
    "\n",
    "def reshapeData(data):\n",
    "    nsamples, h, w = data.shape\n",
    "    new_data = data.reshape((nsamples,h*w))\n",
    "    return new_data\n",
    "\n",
    "# Reshape X_train\n",
    "X_train = reshapeData(X_train)\n",
    "\n",
    "# Reshape X_test\n",
    "X_test = reshapeData(X_test)"
   ]
  },
  {
   "cell_type": "code",
   "execution_count": 35,
   "metadata": {},
   "outputs": [],
   "source": [
    "from sklearn.decomposition import PCA\n",
    "\n",
    "n_components = 40\n",
    "# compute PCA\n",
    "pca = PCA(n_components = n_components).fit(X_train)\n",
    "\n",
    "# apply tranformation\n",
    "X_train_pca = pca.transform(X_train)\n",
    "X_test_pca = pca.transform(X_test)"
   ]
  },
  {
   "cell_type": "markdown",
   "metadata": {},
   "source": [
    "**2) Train a classifier from a set of example**\n",
    "\n",
    "Train a adaboost classifier using the new PCA subspace "
   ]
  },
  {
   "cell_type": "code",
   "execution_count": 36,
   "metadata": {},
   "outputs": [
    {
     "name": "stdout",
     "output_type": "stream",
     "text": [
      "              precision    recall  f1-score   support\n",
      "\n",
      "    Non Face       0.37      0.80      0.51        20\n",
      "        Face       0.43      0.10      0.16        30\n",
      "\n",
      "    accuracy                           0.38        50\n",
      "   macro avg       0.40      0.45      0.34        50\n",
      "weighted avg       0.41      0.38      0.30        50\n",
      "\n"
     ]
    }
   ],
   "source": [
    "from sklearn.ensemble import AdaBoostClassifier\n",
    "from sklearn.metrics import classification_report # to visualize the classification results\n",
    "\n",
    "# AdaBoostClassifier using the PCA data\n",
    "ada_model_pca = AdaBoostClassifier(n_estimators=10, random_state=0)\n",
    "# Fit AdaBoost\n",
    "ada_model_pca.fit(X_train_pca, y_train)\n",
    "\n",
    "y_pred_pca = ada_model_pca.predict(X_test_pca)\n",
    "\n",
    "score_pca = ada_model_pca.score(X_test_pca, y_test)\n",
    "# Non Face will be 0, Face will be 1\n",
    "target_names = ['Non Face', 'Face']\n",
    "\n",
    "print(classification_report(y_test, y_pred_pca, target_names=target_names))"
   ]
  },
  {
   "cell_type": "markdown",
   "metadata": {},
   "source": [
    "**3) Recognize a new examples**\n",
    "\n",
    "Proyect the new face examples (test set) in the learned model. Plot the image with the prediction of the model and the real label.\n",
    "\n",
    "<img src=\"notebook_images/prediction.png\">\n"
   ]
  },
  {
   "cell_type": "code",
   "execution_count": 37,
   "metadata": {},
   "outputs": [],
   "source": [
    "# Function will plot all\n",
    "def plot_gallery(images, titles, h, w, rows=3, cols=4):\n",
    "    # Struct\n",
    "    fig = plt.figure(figsize=(10,10))\n",
    "    \n",
    "    # Plot every image\n",
    "    for i in range(rows * cols):\n",
    "        # Create subplot\n",
    "        plt.subplot(rows, cols, i + 1)\n",
    "        # Plot image\n",
    "        plt.imshow(images[i].reshape((h, w)), cmap='gray')\n",
    "        plt.title(titles[i])\n",
    "        plt.xticks(())\n",
    "        plt.yticks(())\n",
    "    fig.tight_layout()"
   ]
  },
  {
   "cell_type": "code",
   "execution_count": 38,
   "metadata": {},
   "outputs": [
    {
     "ename": "NameError",
     "evalue": "name 'y_pred' is not defined",
     "output_type": "error",
     "traceback": [
      "\u001b[0;31m---------------------------------------------------------------------------\u001b[0m",
      "\u001b[0;31mNameError\u001b[0m                                 Traceback (most recent call last)",
      "\u001b[0;32m<ipython-input-38-09a9585e1ca0>\u001b[0m in \u001b[0;36m<module>\u001b[0;34m\u001b[0m\n\u001b[1;32m      8\u001b[0m         \u001b[0;32myield\u001b[0m \u001b[0;34m'predicted: {0}\\ntrue: {1}'\u001b[0m\u001b[0;34m.\u001b[0m\u001b[0mformat\u001b[0m\u001b[0;34m(\u001b[0m\u001b[0mpred_name\u001b[0m\u001b[0;34m,\u001b[0m \u001b[0mtrue_name\u001b[0m\u001b[0;34m)\u001b[0m\u001b[0;34m\u001b[0m\u001b[0;34m\u001b[0m\u001b[0m\n\u001b[1;32m      9\u001b[0m \u001b[0;34m\u001b[0m\u001b[0m\n\u001b[0;32m---> 10\u001b[0;31m \u001b[0mprediction_titles\u001b[0m \u001b[0;34m=\u001b[0m \u001b[0mlist\u001b[0m\u001b[0;34m(\u001b[0m\u001b[0mpredict\u001b[0m\u001b[0;34m(\u001b[0m\u001b[0my_pred\u001b[0m\u001b[0;34m,\u001b[0m \u001b[0my_test\u001b[0m\u001b[0;34m,\u001b[0m \u001b[0mtarget_names\u001b[0m\u001b[0;34m)\u001b[0m\u001b[0;34m)\u001b[0m\u001b[0;34m\u001b[0m\u001b[0;34m\u001b[0m\u001b[0m\n\u001b[0m\u001b[1;32m     11\u001b[0m \u001b[0mplot_gallery\u001b[0m\u001b[0;34m(\u001b[0m\u001b[0mX_test\u001b[0m\u001b[0;34m,\u001b[0m \u001b[0mprediction_titles\u001b[0m\u001b[0;34m,\u001b[0m \u001b[0mh\u001b[0m\u001b[0;34m,\u001b[0m \u001b[0mw\u001b[0m\u001b[0;34m)\u001b[0m\u001b[0;34m\u001b[0m\u001b[0;34m\u001b[0m\u001b[0m\n",
      "\u001b[0;31mNameError\u001b[0m: name 'y_pred' is not defined"
     ]
    }
   ],
   "source": [
    "# Save prediction and true label\n",
    "# Plot the results\n",
    "def predict(y_pred, y_test, target_names):\n",
    "    for i in range(y_pred.shape[0]):\n",
    "        pred_name = target_names[y_pred[i]]    \n",
    "        true_name = target_names[y_test[i]]\n",
    "\n",
    "        yield 'predicted: {0}\\ntrue: {1}'.format(pred_name, true_name)\n",
    "\n",
    "prediction_titles = list(predict(y_pred, y_test, target_names))\n",
    "plot_gallery(X_test, prediction_titles, h, w)"
   ]
  }
 ],
 "metadata": {
  "kernelspec": {
   "display_name": "Python 3",
   "language": "python",
   "name": "python3"
  },
  "language_info": {
   "codemirror_mode": {
    "name": "ipython",
    "version": 3
   },
   "file_extension": ".py",
   "mimetype": "text/x-python",
   "name": "python",
   "nbconvert_exporter": "python",
   "pygments_lexer": "ipython3",
   "version": "3.6.8"
  }
 },
 "nbformat": 4,
 "nbformat_minor": 1
}
