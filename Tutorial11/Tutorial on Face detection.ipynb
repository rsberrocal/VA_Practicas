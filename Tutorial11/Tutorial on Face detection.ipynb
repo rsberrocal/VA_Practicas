{
 "cells": [
  {
   "cell_type": "markdown",
   "metadata": {},
   "source": [
    "# Tutorial on face detection\n",
    "\n",
    "Haar-like feature descriptors were successfully used to implement the first real-time face detector. In this tutorial we will see an example illustrating the extraction, selection, and classification of Haar-like features to detect faces vs. non-faces.\n",
    "\n",
    "Documentation [Haar-like feature skimage](https://scikit-image.org/docs/0.14.x/auto_examples/xx_applications/plot_haar_extraction_selection_classification.html)\n",
    "\n",
    "\n",
    "In this tutorial we are going to see:\n",
    "\n",
    "\n",
    "1. What is a Haar-like feature?\n",
    "2. Build Integral image\n",
    "3. Extract Haar features\n",
    "4. The Adaboost Classifier\n",
    "5. Face detection with cascade classifier"
   ]
  },
  {
   "cell_type": "markdown",
   "metadata": {},
   "source": [
    "## Imports"
   ]
  },
  {
   "cell_type": "code",
   "execution_count": 1,
   "metadata": {},
   "outputs": [],
   "source": [
    "import numpy as np\n",
    "import matplotlib.pyplot as plt\n",
    "import os\n",
    "from skimage.color import rgb2gray\n",
    "from skimage import io\n",
    "from time import time\n",
    "\n",
    "import skimage\n",
    "from skimage.feature import haar_like_feature_coord\n",
    "from skimage.feature import draw_haar_like_feature\n",
    "from sklearn.model_selection import train_test_split"
   ]
  },
  {
   "cell_type": "markdown",
   "metadata": {},
   "source": [
    "## Haar-like feature descriptor for face detection"
   ]
  },
  {
   "cell_type": "markdown",
   "metadata": {},
   "source": [
    "### What is a Haar-like feature?"
   ]
  },
  {
   "cell_type": "markdown",
   "metadata": {},
   "source": [
    "Haar-like features are features extracted from the images to recognize objects. These features are normally used in face recognition. The key to face recognition is to detect the relevant features of humans such as eyes, lips, or nose. \n",
    "\n",
    "\n",
    "<img src=\"notebook_images/haar-like.png\" width=500, height=500>\n",
    "\n",
    "These features imitate face features. \n",
    "\n",
    "Try to guess where in the face image we expect to detect an edge, line or another facial feature and what would be the most appropriate Haar-feature for them? \n",
    "\n",
    "<img src=\"notebook_images/haar-like1.png\" width=700, height=700>\n",
    "\n",
    "\n",
    "A real application would be:\n",
    "\n",
    "<img src=\"notebook_images/face.png\" width=500, height=500>\n",
    "\n",
    "\n",
    "To describe the face, we can apply convolution with Haar features but on a specific space. What alternative to the convolution with the Haar-features, do you know?\n"
   ]
  },
  {
   "cell_type": "markdown",
   "metadata": {},
   "source": [
    "### Building integral image\n",
    "\n",
    "Compute all the Haar-like features (we can define up to 16000 million masks), can be a slow process. To compute it faster, we are going to use the integral images (instead of convolutions). It is very useful because we are able to save all the sums and substrations of image rectangles to avoid computing all the features every time.\n",
    "\n",
    "\n",
    "When creating an Integral Image, we need to create a Summed Area Table. What does represent any point (x,y) in this table?\n",
    "\n",
    "<img src=\"notebook_images/integral_image.png\">\n",
    "\n",
    "An example :\n",
    "\n",
    "<img src=\"notebook_images/integral_image1.png\">\n",
    "\n",
    "\n",
    "\n",
    "To easy the computation of Haar features, the integral image must have an additional row and column full of zeros (first row and first column). Why?"
   ]
  },
  {
   "cell_type": "markdown",
   "metadata": {},
   "source": [
    "Given an image, implement a function to construct the integral image:"
   ]
  },
  {
   "cell_type": "code",
   "execution_count": 2,
   "metadata": {},
   "outputs": [],
   "source": [
    "def to_integral_image(img_arr):\n",
    "    \"\"\"\n",
    "    Calculates the integral image based on this instance's original image data.\n",
    "    :param img_arr: Image source data\n",
    "    :type img_arr: numpy.ndarray\n",
    "    :return Integral image for given image\n",
    "    :rtype: numpy.ndarray\n",
    "    \"\"\"\n",
    "    # an index of -1 refers to the last row/column\n",
    "    # since row_sum is calculated starting from (0,0),\n",
    "    # rowSum(x, -1) == 0 holds for all x\n",
    "    row_sum = np.zeros(img_arr.shape)\n",
    "    # we need an additional column and row\n",
    "    integral_image_arr = np.zeros((img_arr.shape[0] + 1, img_arr.shape[1] + 1))\n",
    "    for x in range(img_arr.shape[1]):\n",
    "        for y in range(img_arr.shape[0]):\n",
    "            row_sum[y, x] = row_sum[y-1, x] + img_arr[y, x]\n",
    "            integral_image_arr[y+1, x+1] = integral_image_arr[y+1, x-1+1] + row_sum[y, x]\n",
    "    return integral_image_arr"
   ]
  },
  {
   "cell_type": "code",
   "execution_count": 3,
   "metadata": {},
   "outputs": [
    {
     "data": {
      "text/plain": [
       "<matplotlib.image.AxesImage at 0x17c58cffa90>"
      ]
     },
     "execution_count": 3,
     "metadata": {},
     "output_type": "execute_result"
    },
    {
     "data": {
      "image/png": "[encoded data removed]",
      "text/plain": [
       "<Figure size 432x288 with 1 Axes>"
      ]
     },
     "metadata": {
      "needs_background": "light"
     },
     "output_type": "display_data"
    }
   ],
   "source": [
    "img_array = np.array([[0,1,1,1,0],[0,1,1,1,0],[0,1,1,1,0],[0,1,1,1,0]])\n",
    "plt.imshow(img_array, cmap=\"gray\")"
   ]
  },
  {
   "cell_type": "code",
   "execution_count": 4,
   "metadata": {},
   "outputs": [],
   "source": [
    "ii_img_array = to_integral_image(img_array)"
   ]
  },
  {
   "cell_type": "code",
   "execution_count": 5,
   "metadata": {},
   "outputs": [
    {
     "name": "stdout",
     "output_type": "stream",
     "text": [
      "Original image shape is:  (4, 5)\n",
      "Integral image shape is:  (5, 6)\n"
     ]
    }
   ],
   "source": [
    "print('Original image shape is: ',  img_array.shape)\n",
    "print('Integral image shape is: ',  ii_img_array.shape)"
   ]
  },
  {
   "cell_type": "code",
   "execution_count": 6,
   "metadata": {},
   "outputs": [
    {
     "data": {
      "text/plain": [
       "<matplotlib.image.AxesImage at 0x17c58d20dc0>"
      ]
     },
     "execution_count": 6,
     "metadata": {},
     "output_type": "execute_result"
    },
    {
     "data": {
      "image/png": "[encoded data removed]",
      "text/plain": [
       "<Figure size 432x288 with 1 Axes>"
      ]
     },
     "metadata": {
      "needs_background": "light"
     },
     "output_type": "display_data"
    }
   ],
   "source": [
    "plt.imshow(ii_img_array, cmap=\"gray\")"
   ]
  },
  {
   "cell_type": "markdown",
   "metadata": {},
   "source": [
    "### Integral image test\n",
    "\n",
    "To make sure that the values of the integral image are correct, we can compute the following tests:\n",
    "\n",
    " - `sum(img_array) == ii_img_array[-1,-1]`\n",
    " - `img_array[0,:].sum() == ii_img_array[1,-1]`"
   ]
  },
  {
   "cell_type": "code",
   "execution_count": 7,
   "metadata": {},
   "outputs": [
    {
     "data": {
      "text/plain": [
       "True"
      ]
     },
     "execution_count": 7,
     "metadata": {},
     "output_type": "execute_result"
    }
   ],
   "source": [
    "img_array[0,:].sum() == ii_img_array[1,-1]"
   ]
  },
  {
   "cell_type": "code",
   "execution_count": 8,
   "metadata": {},
   "outputs": [
    {
     "data": {
      "text/plain": [
       "(12.0, 12)"
      ]
     },
     "execution_count": 8,
     "metadata": {},
     "output_type": "execute_result"
    }
   ],
   "source": [
    "ii_img_array[-1,-1], img_array.sum()"
   ]
  },
  {
   "cell_type": "markdown",
   "metadata": {},
   "source": [
    "Let's check in in real images. Read all faces in the directory 'faces' and make the same test."
   ]
  },
  {
   "cell_type": "code",
   "execution_count": 9,
   "metadata": {},
   "outputs": [],
   "source": [
    "# Load face images\n",
    "path = \"./faces/\"                       \n",
    "face_images = [skimage.io.imread(path + f) for f in os.listdir(path)]"
   ]
  },
  {
   "cell_type": "code",
   "execution_count": 10,
   "metadata": {
    "scrolled": true
   },
   "outputs": [
    {
     "name": "stdout",
     "output_type": "stream",
     "text": [
      "True\n",
      "True\n",
      "True\n",
      "True\n",
      "True\n"
     ]
    }
   ],
   "source": [
    "for face_image in face_images[:5]:\n",
    "    print(round(to_integral_image(face_image)[1,-1],2) == \n",
    "          round(face_image[0,:].sum(), 2))"
   ]
  },
  {
   "cell_type": "markdown",
   "metadata": {},
   "source": [
    "Alternatively to our own function, we can use the function of skimage:\n",
    "\n",
    "**from skimage.transform import integral_image**"
   ]
  },
  {
   "cell_type": "markdown",
   "metadata": {},
   "source": [
    "**Exercise:** What do the following lines mean? How can you explain this?\n",
    "\n",
    " - `sum(img_array) == ii_img_array[-1,-1]`\n",
    " - `img_array[0,:].sum() == ii_img_array[1,-1]`\n",
    " - `ii_img_array[0,-1].sum() == 0`\n",
    " \n"
   ]
  },
  {
   "cell_type": "markdown",
   "metadata": {},
   "source": [
    "### Extract Haar like features\n",
    "\n",
    "Let's use the haar_like_feature function from skimage [Haar like feature](https://scikit-image.org/docs/0.14.x/api/skimage.feature.html#skimage.feature.haar_like_feature)\n",
    "\n",
    "*skimage.feature.haar_like_feature(int_image, rint, cint, widthint, heightint, feature_type=None, feature_coord=None)*\n",
    "\n",
    "Compute the Haar-like features for a region of interest (ROI) of an integral image.\n",
    "\n",
    "\n",
    "- Parameters:\n",
    "\n",
    "    - **int_image(M, N) ndarray:** Integral image for which the features need to be computed.\n",
    "\n",
    "    - **rint:** Row-coordinate of top left corner of the detection window.\n",
    "\n",
    "    - **cint:** Column-coordinate of top left corner of the detection window.\n",
    "\n",
    "    - **widthint**: Width of the detection window.\n",
    "\n",
    "    - **heightint**: Height of the detection window.\n",
    "\n",
    "    - **feature_typestr or list of str or None, optional**: The type of feature to consider:\n",
    "\n",
    "        - ‘type-2-x’: 2 rectangles varying along the x axis;\n",
    "\n",
    "        - ‘type-2-y’: 2 rectangles varying along the y axis;\n",
    "\n",
    "        - ‘type-3-x’: 3 rectangles varying along the x axis;\n",
    "\n",
    "        - ‘type-3-y’: 3 rectangles varying along the y axis;\n",
    "\n",
    "        - ‘type-4’: 4 rectangles varying along x and y axis.\n",
    "        \n",
    "\n",
    "Returns:\n",
    "\n",
    "haar_features(n_features,) ndarray of int or float\n",
    "Resulting Haar-like features. Each value is equal to the subtraction of sums of the positive and negative rectangles. The data type depends of the data type of int_image: int when the data type of int_image is uint or int and float when the data type of int_image is float.\n",
    "\n",
    "\n",
    "\n"
   ]
  },
  {
   "cell_type": "markdown",
   "metadata": {},
   "source": [
    "**haar_like_feature_coord**\n",
    "\n",
    "- *skimage.feature.haar_like_feature_coord(width, height, feature_type=None)*\n",
    "\n",
    "Compute the coordinates of Haar-like features.\n",
    "\n",
    "Parameters\n",
    "- widthint\n",
    "Width of the detection window.\n",
    "\n",
    "- heightint\n",
    "Height of the detection window.\n",
    "\n",
    "feature_typestr or list of str or None, optional\n",
    "The type of feature to consider:\n",
    "\n",
    "- ‘type-2-x’: 2 rectangles varying along the x axis;\n",
    "\n",
    "- ‘type-2-y’: 2 rectangles varying along the y axis;\n",
    "\n",
    "- ‘type-3-x’: 3 rectangles varying along the x axis;\n",
    "\n",
    "- ‘type-3-y’: 3 rectangles varying along the y axis;\n",
    "\n",
    "- ‘type-4’: 4 rectangles varying along x and y axis.\n",
    "\n",
    "By default all features are extracted.\n",
    "\n",
    "Returns\n",
    "feature_coord(n_features, n_rectangles, 2, 2), ndarray of list of tuple coord\n",
    "Coordinates of the rectangles for each feature.\n",
    "\n",
    "feature_type(n_features,), ndarray of str\n",
    "The corresponding type for each feature.\n"
   ]
  },
  {
   "cell_type": "markdown",
   "metadata": {},
   "source": [
    "**draw_haar_like_feature**\n",
    "\n",
    "skimage.feature.draw_haar_like_feature(image, r, c, width, height, feature_coord, color_positive_block=(1.0, 0.0, 0.0), color_negative_block=(0.0, 1.0, 0.0), alpha=0.5, max_n_features=None, random_state=None)[source]\n",
    "Visualization of Haar-like features.\n",
    "\n",
    "Parameters\n",
    "image(M, N) ndarray\n",
    "The region of an integral image for which the features need to be computed.\n",
    "\n",
    "- rint Row-coordinate of top left corner of the detection window.\n",
    "\n",
    "- cint Column-coordinate of top left corner of the detection window.\n",
    "\n",
    "- widthint Width of the detection window.\n",
    "\n",
    "- heightint Height of the detection window.\n",
    "\n",
    "- feature_coordndarray of list of tuples or None, optional\n",
    "\n",
    "The array of coordinates to be extracted. This is useful when you want to recompute only a subset of features. In this case feature_type needs to be an array containing the type of each feature, as returned by haar_like_feature_coord(). By default, all coordinates are computed.\n",
    "\n",
    "- color_positive_rectangletuple of 3 floats\n",
    "Floats specifying the color for the positive block. Corresponding values define (R, G, B) values. Default value is red (1, 0, 0).\n",
    "\n",
    "- color_negative_blocktuple of 3 floats\n",
    "Floats specifying the color for the negative block Corresponding values define (R, G, B) values. Default value is blue (0, 1, 0).\n",
    "\n",
    "- alphafloat\n",
    "Value in the range [0, 1] that specifies opacity of visualization. 1 - fully transparent, 0 - opaque.\n",
    "\n",
    "- max_n_featuresint, default=None\n",
    "The maximum number of features to be returned. By default, all features are returned.\n",
    "\n",
    "- random_stateint, RandomState instance or None, optional\n",
    "If int, random_state is the seed used by the random number generator; If RandomState instance, random_state is the random number generator; If None, the random number generator is the RandomState instance used by np.random. The random state is used when generating a set of features smaller than the total number of available features.\n",
    "\n",
    "Returns\n",
    "features(M, N), ndarray\n",
    "An image in which the different features will be added."
   ]
  },
  {
   "cell_type": "markdown",
   "metadata": {},
   "source": [
    "#### Plot Haar-like features"
   ]
  },
  {
   "cell_type": "code",
   "execution_count": 11,
   "metadata": {},
   "outputs": [],
   "source": [
    "feature_types = ['type-2-x', 'type-2-y',\n",
    "                 'type-3-x', 'type-3-y',\n",
    "                 'type-4']\n",
    "\n",
    "\n",
    "def plotFeaturesImage(image):\n",
    "    \n",
    "    fig, axs = plt.subplots(3, 2, figsize=(10,10))\n",
    "    for ax, feat_t in zip(np.ravel(axs), feature_types):\n",
    "        coord, _ = haar_like_feature_coord(image.shape[0], image.shape[1], feat_t)\n",
    "        haar_feature = draw_haar_like_feature(image, 0, 0,\n",
    "                                       image.shape[1],\n",
    "                                       image.shape[0],\n",
    "                                       coord,\n",
    "                                       max_n_features =1)\n",
    "\n",
    "        ax.imshow(haar_feature)\n",
    "        ax.set_title(feat_t)\n",
    "        ax.set_xticks([])\n",
    "        ax.set_yticks([])\n",
    "\n",
    "    fig.suptitle('The different Haar-like feature descriptors')\n",
    "    plt.axis('off')\n",
    "    plt.show()\n",
    "\n",
    "\n",
    "def plotFeaturesMultipleImages(images):\n",
    "\n",
    "    fig, axs = plt.subplots(3, 2, figsize=(10,10))\n",
    "    for ax, img, feat_t in zip(np.ravel(axs), images, feature_types):\n",
    "        coord, _ = haar_like_feature_coord(img.shape[0], img.shape[1], feat_t)\n",
    "        haar_feature = draw_haar_like_feature(img, 0, 0,\n",
    "                                              img.shape[0],\n",
    "                                              img.shape[1],\n",
    "                                              coord,\n",
    "                                              max_n_features=1,\n",
    "                                              random_state=0)\n",
    "        ax.imshow(haar_feature)\n",
    "        ax.set_title(feat_t)\n",
    "        ax.set_xticks([])\n",
    "        ax.set_yticks([])\n",
    "\n",
    "    fig.suptitle('The different Haar-like feature descriptors')\n",
    "    plt.axis('off')\n",
    "    plt.show()\n"
   ]
  },
  {
   "cell_type": "markdown",
   "metadata": {},
   "source": [
    "### Plot single image"
   ]
  },
  {
   "cell_type": "code",
   "execution_count": 12,
   "metadata": {},
   "outputs": [
    {
     "data": {
      "image/png": "[encoded data removed]",
      "text/plain": [
       "<Figure size 720x720 with 6 Axes>"
      ]
     },
     "metadata": {
      "needs_background": "light"
     },
     "output_type": "display_data"
    }
   ],
   "source": [
    "plotFeaturesImage(face_images[0])"
   ]
  },
  {
   "cell_type": "markdown",
   "metadata": {},
   "source": [
    "### Plot multiple images"
   ]
  },
  {
   "cell_type": "code",
   "execution_count": 13,
   "metadata": {},
   "outputs": [
    {
     "data": {
      "image/png": "[encoded data removed]",
      "text/plain": [
       "<Figure size 720x720 with 6 Axes>"
      ]
     },
     "metadata": {
      "needs_background": "light"
     },
     "output_type": "display_data"
    }
   ],
   "source": [
    "plotFeaturesMultipleImages(face_images)"
   ]
  },
  {
   "cell_type": "code",
   "execution_count": 14,
   "metadata": {},
   "outputs": [],
   "source": [
    "from skimage.feature import haar_like_feature\n",
    "from skimage.transform import resize\n",
    "\n",
    "def extract_feature_image(img, feature_type, feature_coord=None):\n",
    "    \"\"\"Extract the haar feature for the current image\"\"\"\n",
    "    ii = to_integral_image(img)\n",
    "    return haar_like_feature(ii, 0, 0, ii.shape[0], ii.shape[1],\n",
    "                             feature_type=feature_type,\n",
    "                             feature_coord=feature_coord)\n"
   ]
  },
  {
   "cell_type": "markdown",
   "metadata": {},
   "source": [
    "### Extract features\n",
    "\n",
    "Once we have the function to get the integral image, we can extract the features before building the classifier."
   ]
  },
  {
   "cell_type": "code",
   "execution_count": 15,
   "metadata": {},
   "outputs": [],
   "source": [
    "# Build a vector with the faces features\n",
    "features_faces = []\n",
    "for face_image in face_images:\n",
    "    features_faces.append(extract_feature_image(face_image, feature_types))"
   ]
  },
  {
   "cell_type": "code",
   "execution_count": 16,
   "metadata": {},
   "outputs": [],
   "source": [
    "# Load face images\n",
    "path = \"./nonfaces/\"                       \n",
    "non_face_images = [skimage.io.imread(path + f) for f in os.listdir(path)]\n",
    "\n",
    "# Build a vector with the non-faces features\n",
    "non_features_faces = []\n",
    "for non_face_image in non_face_images:\n",
    "    non_features_faces.append(extract_feature_image(non_face_image, feature_types))"
   ]
  },
  {
   "cell_type": "markdown",
   "metadata": {},
   "source": [
    "### Split the data into train and test \n",
    "\n",
    "After extrating the features, we should split the data into train and test."
   ]
  },
  {
   "cell_type": "code",
   "execution_count": 17,
   "metadata": {},
   "outputs": [],
   "source": [
    "X = np.array(features_faces + non_features_faces)\n",
    "y = np.array([1] * len(face_images) + [0] * len(non_face_images)) # Labels face = 1, non face = 0"
   ]
  },
  {
   "cell_type": "code",
   "execution_count": 18,
   "metadata": {},
   "outputs": [],
   "source": [
    "X_train, X_test, y_train, y_test = train_test_split(X, y,\n",
    "                                                    random_state=0,\n",
    "                                                    stratify=y)"
   ]
  },
  {
   "cell_type": "markdown",
   "metadata": {},
   "source": [
    "### Adaboost\n",
    "\n",
    "Once we have the data splitted, we can train the Ada boost.\n",
    "\n",
    "*class sklearn.ensemble.AdaBoostClassifier(base_estimator=None, *, n_estimators=50, learning_rate=1.0, algorithm='SAMME.R', random_state=None)*\n",
    "\n",
    "An AdaBoost [1] classifier is a meta-estimator that begins by fitting a classifier on the original dataset and then fits additional copies of the classifier on the same dataset but where the weights of incorrectly classified instances are adjusted such that subsequent classifiers focus more on difficult cases.\n",
    "\n",
    "Parameters\n",
    "- n_estimatorsint, default=50\n",
    "The maximum number of estimators at which boosting is terminated. In case of perfect fit, the learning procedure is stopped early.\n",
    "\n",
    "- learning_ratefloat, default=1.\n",
    "Learning rate shrinks the contribution of each classifier by learning_rate. There is a trade-off between learning_rate and n_estimators.\n",
    "\n",
    "- random_stateint or RandomState, default=None\n",
    "Controls the random seed given at each base_estimator at each boosting iteration. Thus, it is only used when base_estimator exposes a random_state. Pass an int for reproducible output across multiple function calls. See Glossary.\n",
    "\n",
    "Attributes\n",
    "- estimators_list of classifiers\n",
    "The collection of fitted sub-estimators.\n",
    "\n",
    "- classes_ndarray of shape (n_classes,)\n",
    "The classes labels.\n",
    "\n",
    "- n_classes_int\n",
    "The number of classes.\n",
    "\n",
    "- estimator_weights_ndarray of floats\n",
    "Weights for each estimator in the boosted ensemble.\n",
    "\n",
    "- estimator_errors_ndarray of floats\n",
    "Classification error for each estimator in the boosted ensemble.\n"
   ]
  },
  {
   "cell_type": "code",
   "execution_count": 23,
   "metadata": {},
   "outputs": [],
   "source": [
    "# Train a Adaboost classifier\n",
    "\n",
    "from sklearn.ensemble import AdaBoostClassifier\n",
    "\n",
    "ada_model = AdaBoostClassifier(n_estimators=100, random_state=0)\n",
    "ada_model.fit(X_train, y_train)\n",
    "prediction = ada_model.predict(X_test)\n",
    "score = ada_model.score(X_test, y_test)\n"
   ]
  },
  {
   "cell_type": "code",
   "execution_count": 24,
   "metadata": {},
   "outputs": [
    {
     "name": "stdout",
     "output_type": "stream",
     "text": [
      "0.9411764705882353\n",
      "[0 0 0 1 0 1 0 0 1 1 1 1 1 1 0 1 0]\n"
     ]
    }
   ],
   "source": [
    "print(score)\n",
    "print(prediction)"
   ]
  },
  {
   "cell_type": "markdown",
   "metadata": {},
   "source": [
    "**Exercise:** Look for another face image and try the model. What is the result? Face or non face?\n",
    "\n",
    "**Exercise:** Change the parameter n_estimators and see what happens. Does it improve?\n",
    "\n",
    "**Exercise:** Implement the Ada boost training the model with just 1 type of feature. And 2 types? And 3 types? Plot the results comparing the precision. Draw conclusions about the results"
   ]
  },
  {
   "cell_type": "markdown",
   "metadata": {},
   "source": [
    "### Most important features Adaboost"
   ]
  },
  {
   "cell_type": "code",
   "execution_count": 25,
   "metadata": {},
   "outputs": [
    {
     "data": {
      "image/png": "[encoded data removed]",
      "text/plain": [
       "<Figure size 720x720 with 6 Axes>"
      ]
     },
     "metadata": {},
     "output_type": "display_data"
    }
   ],
   "source": [
    "image = face_images[6]\n",
    "\n",
    "# Extract all possible features\n",
    "feature_coord, feature_type = \\\n",
    "    haar_like_feature_coord(width=image.shape[1], height=image.shape[0],\n",
    "                            feature_type=feature_types)\n",
    "\n",
    "idx_sorted = np.argsort(ada_model.feature_importances_)[1:]\n",
    "\n",
    "fig, axes = plt.subplots(3, 2, figsize=(10,10))\n",
    "for idx, ax in enumerate(axes.ravel()):\n",
    "    image = face_images[2]\n",
    "    image = draw_haar_like_feature(image, 0, 0,\n",
    "                                   image.shape[1],\n",
    "                                   image.shape[0],\n",
    "                                   [feature_coord[idx_sorted[idx]]])\n",
    "    ax.imshow(image)\n",
    "    ax.set_xticks([])\n",
    "    ax.set_yticks([])\n",
    "\n",
    "_ = fig.suptitle('The most important features')"
   ]
  },
  {
   "cell_type": "markdown",
   "metadata": {},
   "source": [
    "### Cascade of classifiers"
   ]
  },
  {
   "cell_type": "markdown",
   "metadata": {},
   "source": [
    "class skimage.feature.Cascade\n",
    "\n",
    "Class for cascade of classifiers that is used for object detection.\n",
    "\n",
    "The main idea behind cascade of classifiers is to create classifiers of medium accuracy and ensemble them into one strong classifier instead of just creating a strong one. The second advantage of cascade classifier is that easy examples can be classified only by evaluating some of the classifiers in the cascade, making the process much faster than the process of evaluating a one strong classifier.\n",
    "\n",
    "Attributes\n",
    "- epscnp.float32_t\n",
    "Accuracy parameter. Increasing it, makes the classifier detect less false positives but at the same time the false negative score increases.\n",
    "\n",
    "- stages_numberPy_ssize_t\n",
    "Amount of stages in a cascade. Each cascade consists of stumps i.e. trained features.\n",
    "\n",
    "- stumps_numberPy_ssize_t\n",
    "The overall amount of stumps in all the stages of cascade.\n",
    "\n",
    "- features_numberPy_ssize_t\n",
    "The overall amount of different features used by cascade. Two stumps can use the same features but has different trained values.\n",
    "\n",
    "- window_widthPy_ssize_t\n",
    "The width of a detection window that is used. Objects smaller than this window can’t be detected.\n",
    "\n",
    "- window_heightPy_ssize_t\n",
    "The height of a detection window."
   ]
  },
  {
   "cell_type": "code",
   "execution_count": 22,
   "metadata": {},
   "outputs": [
    {
     "name": "stdout",
     "output_type": "stream",
     "text": [
      "[{'r': 159, 'c': 338, 'width': 378, 'height': 378}, {'r': 140, 'c': 364, 'width': 328, 'height': 328}]\n"
     ]
    },
    {
     "data": {
      "image/png": "[encoded data removed]",
      "text/plain": [
       "<Figure size 432x288 with 1 Axes>"
      ]
     },
     "metadata": {
      "needs_background": "light"
     },
     "output_type": "display_data"
    }
   ],
   "source": [
    "from skimage.feature import Cascade\n",
    "from skimage import data\n",
    "from matplotlib import patches\n",
    "\n",
    "# Load face images\n",
    "path = \"./another_faces/\"                       \n",
    "original_another_faces = [skimage.io.imread(path + f) for f in os.listdir(path)]\n",
    "\n",
    "\n",
    "# Load the trained file from the module root.\n",
    "trained_file = data.lbp_frontal_face_cascade_filename()\n",
    "\n",
    "# Initialize the dectector cascade\n",
    "query = original_another_faces[-1]\n",
    "detector = Cascade(trained_file)\n",
    "detected = detector.detect_multi_scale(img=query,\n",
    "                                       scale_factor=1.2,\n",
    "                                       step_ratio=1,\n",
    "                                       min_size=(50, 50),\n",
    "                                       max_size=(500, 500))\n",
    "\n",
    "plt.imshow(query)\n",
    "img_desc = plt.gca()\n",
    "plt.set_cmap('gray')\n",
    "\n",
    "print(detected)\n",
    "\n",
    "for patch in detected:\n",
    "\n",
    "    img_desc.add_patch(\n",
    "        patches.Rectangle(\n",
    "            (patch['c'], patch['r']),\n",
    "            patch['width'],\n",
    "            patch['height'],\n",
    "            fill=False,\n",
    "            color='r',\n",
    "            linewidth=2\n",
    "        )\n",
    "    )\n",
    "\n",
    "plt.show()"
   ]
  },
  {
   "cell_type": "markdown",
   "metadata": {},
   "source": [
    "**Exercise:** Test the model with another image. Does it work properly?\n",
    "\n",
    "**Exercise:** Does it work using a rotated image?"
   ]
  },
  {
   "cell_type": "code",
   "execution_count": null,
   "metadata": {},
   "outputs": [],
   "source": []
  },
  {
   "cell_type": "code",
   "execution_count": null,
   "metadata": {},
   "outputs": [],
   "source": []
  }
 ],
 "metadata": {
  "kernelspec": {
   "display_name": "Python 3",
   "language": "python",
   "name": "python3"
  },
  "language_info": {
   "codemirror_mode": {
    "name": "ipython",
    "version": 3
   },
   "file_extension": ".py",
   "mimetype": "text/x-python",
   "name": "python",
   "nbconvert_exporter": "python",
   "pygments_lexer": "ipython3",
   "version": "3.8.3"
  }
 },
 "nbformat": 4,
 "nbformat_minor": 4
}
