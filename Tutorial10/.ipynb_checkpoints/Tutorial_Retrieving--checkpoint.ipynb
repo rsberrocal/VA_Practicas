{
 "cells": [
  {
   "cell_type": "markdown",
   "metadata": {
    "id": "t74vOpGFFY4b"
   },
   "source": [
    "# Retrieval\n",
    "\n",
    "\n",
    "Finding the most similar or different images may be of great help in different computer vision applications. For example, different Artificial Intelligence applications use these techniques to check if their result is far from what was expected. In addition, we can find contrary or similar images in an image dataset without the need to search them manually.\n",
    "\n",
    "\n",
    "In this tutorial we will see how to determine :\n",
    "\n",
    "- The distance between images (similarity search)\n",
    "    - Using Gaussian filters\n",
    "    - Using LBP\n",
    "- The most similar image based on texture,\n",
    "- The most similar image based on color.\n"
   ]
  },
  {
   "cell_type": "markdown",
   "metadata": {
    "id": "FljYFWewFY4b"
   },
   "source": [
    "## 1. Distance between images (similarity search)"
   ]
  },
  {
   "cell_type": "markdown",
   "metadata": {
    "id": "0U6VnssDFY4b"
   },
   "source": [
    "### Imports"
   ]
  },
  {
   "cell_type": "code",
   "execution_count": null,
   "metadata": {
    "id": "T5vhd7AyFY4b"
   },
   "outputs": [],
   "source": [
    "from skimage import data\n",
    "from skimage.color import label2rgb\n",
    "import matplotlib.pyplot as plt\n",
    "import numpy as np\n",
    "import time\n",
    "import scipy\n",
    "from skimage import filters\n",
    "from skimage import io, color\n",
    "import os\n",
    "from skimage.transform import resize\n",
    "import skimage\n",
    "\n",
    "%matplotlib inline"
   ]
  },
  {
   "cell_type": "markdown",
   "metadata": {
    "id": "X4EvTlFdFY4c"
   },
   "source": [
    "### Load & resize images"
   ]
  },
  {
   "cell_type": "code",
   "execution_count": null,
   "metadata": {
    "id": "0cAc9umAFY4c"
   },
   "outputs": [],
   "source": [
    "# Resize dimension 100 x 100\n",
    "x = 100\n",
    "y = 100\n",
    "\n",
    "# Load images: pizza, paella, flowers\n",
    "path = \"./textures_images/pizza/\"                       \n",
    "pizza_images = [resize(skimage.io.imread(path + f), (x, y)) for f in os.listdir(path)]\n",
    "\n",
    "path = \"./textures_images/paella/\"\n",
    "paella_images = [resize(skimage.io.imread(path + f), (x, y)) for f in os.listdir(path)]\n",
    "\n",
    "path = \"./textures_images/flowers/\"\n",
    "flowers_images = [resize(skimage.io.imread(path + f), (x, y)) for f in os.listdir(path)]"
   ]
  },
  {
   "cell_type": "code",
   "execution_count": null,
   "metadata": {
    "id": "k19_ayFXFY4c"
   },
   "outputs": [],
   "source": [
    "#visualize\n",
    "def visualize2(img1,img2,label1,label2):\n",
    "    #visualize\n",
    "    fig=plt.figure(figsize=(15,15))\n",
    "    fig.add_subplot(1,2,1)\n",
    "    plt.title(label1)\n",
    "    plt.imshow(img1, cmap='gray')\n",
    "    plt.xticks([])\n",
    "    plt.yticks([])\n",
    "    fig.add_subplot(1,2,2)\n",
    "    plt.title(label2)\n",
    "    plt.xticks([])\n",
    "    plt.yticks([])\n",
    "    plt.imshow(img2, cmap='gray')\n",
    "    \n",
    "def visualize3(img1,img2,img3,label1,label2,label3):\n",
    "    #visualize\n",
    "    fig=plt.figure(figsize=(15,15))\n",
    "    fig.add_subplot(1,3,1)\n",
    "    plt.title(label1)\n",
    "    plt.imshow(img1, cmap='gray')\n",
    "    plt.xticks([])\n",
    "    plt.yticks([])\n",
    "    fig.add_subplot(1,3,2)\n",
    "    plt.title(label2)\n",
    "    plt.xticks([])\n",
    "    plt.yticks([])\n",
    "    plt.imshow(img2, cmap='gray')\n",
    "    fig.add_subplot(1,3,3)\n",
    "    plt.xticks([])\n",
    "    plt.yticks([])\n",
    "    plt.title(label3)\n",
    "    plt.imshow(img3, cmap='gray')\n",
    "\n",
    "\n",
    "def visualize4(img1,img2,img3,img4,label1,label2,label3,label4):\n",
    "    #visualize\n",
    "    fig=plt.figure(figsize=(15,15))\n",
    "    fig.add_subplot(1,4,1)\n",
    "    plt.title(label1)\n",
    "    plt.imshow(img1, cmap='gray')\n",
    "    plt.xticks([])\n",
    "    plt.yticks([])\n",
    "    fig.add_subplot(1,4,2)\n",
    "    plt.title(label2)\n",
    "    plt.xticks([])\n",
    "    plt.yticks([])\n",
    "    plt.imshow(img2, cmap='gray')\n",
    "    fig.add_subplot(1,4,3)\n",
    "    plt.xticks([])\n",
    "    plt.yticks([])\n",
    "    plt.title(label3)\n",
    "    plt.imshow(img3, cmap='gray')\n",
    "    fig.add_subplot(1,4,4)\n",
    "    plt.xticks([])\n",
    "    plt.yticks([])\n",
    "    plt.title(label4)\n",
    "    plt.imshow(img4, cmap='gray')\n",
    "\n"
   ]
  },
  {
   "cell_type": "code",
   "execution_count": null,
   "metadata": {
    "id": "9mi6k-KfFY4c",
    "outputId": "d90c6cfd-43e1-4309-c35f-30f37e5afa06"
   },
   "outputs": [],
   "source": [
    "#visualize \n",
    "visualize3(pizza_images[0], paella_images[0], flowers_images[0], 'pizza', 'paella', 'flower')"
   ]
  },
  {
   "cell_type": "markdown",
   "metadata": {},
   "source": [
    "## 1.1. Similarity using Gaussian filters"
   ]
  },
  {
   "cell_type": "markdown",
   "metadata": {},
   "source": [
    "To get the similartiy between images:\n",
    "\n",
    "1. Apply the filters to extract the feature vectors of each image. The feature vector will be the mean of the absolute value of the convolved image by filter  𝑘. \n",
    "2. Compute the Euclidean distance to get the similarity between the images"
   ]
  },
  {
   "cell_type": "code",
   "execution_count": null,
   "metadata": {
    "id": "MM9tXbvZFY4c",
    "outputId": "bf99ae28-1262-4783-8949-9f4d8fed9d69"
   },
   "outputs": [],
   "source": [
    "import LM_filters\n",
    "# Load filters\n",
    "filter_bank = LM_filters.makeLMfilters()\n",
    "filter_bank.shape"
   ]
  },
  {
   "cell_type": "code",
   "execution_count": null,
   "metadata": {
    "id": "5_ps5Ar0FY4c",
    "outputId": "6ccdaaa5-20b2-4ee3-b516-1cf624f65b73"
   },
   "outputs": [],
   "source": [
    "n_filters = filter_bank.shape[-1]\n",
    "print(filter_bank.shape)\n",
    "\n",
    "#visualize the filters\n",
    "fig, ax = plt.subplots(ncols=12, nrows=4, figsize=(15,3))\n",
    "\n",
    "k = 0\n",
    "for i in range(4):\n",
    "    for j in range(12):\n",
    "        ax[i,j].imshow(filter_bank[:,:,k], cmap = 'gray')\n",
    "        ax[i,j].axis(\"off\")\n",
    "        k = k + 1"
   ]
  },
  {
   "cell_type": "markdown",
   "metadata": {
    "id": "UeheGZtiFY4d"
   },
   "source": [
    "### Feature vector from the filter bank\n",
    "\n",
    " Given an image, the returned feature vector must contain at position $k$ the mean of the absolute value of the convolved image by filter $k$.\n",
    "\n",
    "$$\n",
    "\\text{feat}(x) = \\left( \\text{mean}( |r_1|), \\dots,\\text{mean}(|r_D|) \\right)\n",
    "$$"
   ]
  },
  {
   "cell_type": "code",
   "execution_count": null,
   "metadata": {
    "id": "5XWyIO38FY4d"
   },
   "outputs": [],
   "source": [
    "from skimage.color import rgb2gray\n",
    "import numpy as np\n",
    "from scipy.linalg import norm\n",
    "\n",
    "def features_from_filter_bank(image, filter_bank, n_filters=filter_bank.shape[-1]):\n",
    "    im_conv = np.zeros(image.shape)\n",
    "    features_for_im = np.zeros(n_filters)\n",
    "    \n",
    "    for i in range(n_filters):\n",
    "        scipy.ndimage.convolve(image, filter_bank[:,:,i], output=im_conv)\n",
    "        features_for_im[i] = np.mean(np.abs(im_conv))\n",
    "  \n",
    "    return features_for_im\n",
    "\n",
    "fv_fpizza0=features_from_filter_bank(rgb2gray(pizza_images[0]), filter_bank)\n",
    "fv_paella0=features_from_filter_bank(rgb2gray(paella_images[0]), filter_bank)\n",
    "fv_flowers0=features_from_filter_bank(rgb2gray(flowers_images[0]), filter_bank)\n"
   ]
  },
  {
   "cell_type": "code",
   "execution_count": null,
   "metadata": {
    "id": "-806Qki1FY4d",
    "outputId": "0d15e429-0425-4ddd-ce4f-04f6bfa8b20c"
   },
   "outputs": [],
   "source": [
    "plt.plot(fv_fpizza0[:35],'r')\n",
    "plt.plot(fv_paella0[:35],'g')\n",
    "plt.plot(fv_flowers0[:35],'b')\n",
    "plt.show()\n"
   ]
  },
  {
   "cell_type": "markdown",
   "metadata": {
    "id": "1i7a20z7FY4d"
   },
   "source": [
    "### Compare similarity between images\n",
    "\n",
    "Let us assume $f(x) \\in \\mathbb{R}^D$ represents a set of features for $x$. Given a query image $x$ and another image $x^m$ from the database, we can compute the distance between images as\n",
    "$$\n",
    "\\text{distance}\\left( f(x) , \\, f(x^m) \\right) = \\| \\text{feat}(x)  - \\text{feat}(x^m)  \\|_2 =  \\sqrt{ \\sum_{d=1}^\\text{D} \\left( f(x)_d - f(x^m)_d  \\right)^2 }\n",
    "$$\n"
   ]
  },
  {
   "cell_type": "code",
   "execution_count": null,
   "metadata": {
    "id": "q0YAPixkFY4d"
   },
   "outputs": [],
   "source": [
    "# Plot images and distance\n",
    "def plotImgAndDistance(img1, img2, distance):\n",
    "    # Plot images and distance\n",
    "    fig, ax= plt.subplots(ncols=2, nrows=1, figsize=(10,10))\n",
    "    ax[0].imshow(img1)\n",
    "    ax[0].set_title('Original', fontsize=10)\n",
    "    #fig.suptitle('Distance: ' + str(distance), fontsize=20)\n",
    "    ax[1].imshow(img2)\n",
    "    ax[1].set_title('Distance to the original image: ' + str(distance), fontsize=10)\n",
    "    plt.show()"
   ]
  },
  {
   "cell_type": "markdown",
   "metadata": {
    "id": "VOlMzeGSFY4d"
   },
   "source": [
    "### Pizza vs pizza"
   ]
  },
  {
   "cell_type": "code",
   "execution_count": null,
   "metadata": {
    "id": "lTXtUVKlFY4d",
    "outputId": "a8dffd6d-254f-43f0-8ffd-d78802a291fb"
   },
   "outputs": [],
   "source": [
    "# Load images\n",
    "im1 = skimage.color.rgb2gray(pizza_images[0])\n",
    "im2 = skimage.color.rgb2gray(pizza_images[2])\n",
    "\n",
    "# Feature vector\n",
    "n_filters = filter_bank.shape[-1]\n",
    "features_for_im1 = features_from_filter_bank(im1, filter_bank, n_filters)\n",
    "features_for_im2 = features_from_filter_bank(im2, filter_bank, n_filters)\n",
    "\n",
    "# Compute distance\n",
    "distance = np.sqrt(np.sum((features_for_im1 - features_for_im2)**2)) # Alternative from scipy.spatial.distance import euclidean\n",
    "\n",
    "\n",
    "# Plot images and distance\n",
    "plotImgAndDistance(pizza_images[0], pizza_images[2], distance)\n"
   ]
  },
  {
   "cell_type": "markdown",
   "metadata": {
    "id": "wK9h783DFY4d"
   },
   "source": [
    "### Pizza vs flower"
   ]
  },
  {
   "cell_type": "code",
   "execution_count": null,
   "metadata": {
    "id": "MNpwLD0cFY4d",
    "outputId": "34404aea-408c-4862-8c4b-cc90d222b35c"
   },
   "outputs": [],
   "source": [
    "# Load images\n",
    "im1 = skimage.color.rgb2gray(pizza_images[0])\n",
    "im2 = skimage.color.rgb2gray(flowers_images[2])\n",
    "\n",
    "# Feature vector\n",
    "n_filters = filter_bank.shape[-1]\n",
    "features_for_im1 = features_from_filter_bank(im1, filter_bank, n_filters)\n",
    "features_for_im2 = features_from_filter_bank(im2, filter_bank, n_filters)\n",
    "\n",
    "# Compute distance\n",
    "distance = np.sqrt(np.sum((features_for_im1 - features_for_im2)**2)) # Alternative from scipy.spatial.distance import euclidean\n",
    "\n",
    "# Plot images and distance\n",
    "plotImgAndDistance(pizza_images[0], flowers_images[2], distance)"
   ]
  },
  {
   "cell_type": "markdown",
   "metadata": {
    "id": "yzk8E54wFY4d"
   },
   "source": [
    "### Pizza vs paella"
   ]
  },
  {
   "cell_type": "code",
   "execution_count": null,
   "metadata": {
    "id": "07IECPLMFY4d",
    "outputId": "3ebafb78-7e42-4a94-bf8e-0e578b58193c"
   },
   "outputs": [],
   "source": [
    "# Load images\n",
    "im1 = skimage.color.rgb2gray(pizza_images[0])\n",
    "im2 = skimage.color.rgb2gray(paella_images[0])\n",
    "\n",
    "# Feature vector\n",
    "n_filters = filter_bank.shape[-1]\n",
    "features_for_im1 = features_from_filter_bank(im1, filter_bank, n_filters)\n",
    "features_for_im2 = features_from_filter_bank(im2, filter_bank, n_filters)\n",
    "\n",
    "# Compute distance\n",
    "distance = np.sqrt(np.sum((features_for_im1 - features_for_im2)**2)) # Alternative from scipy.spatial.distance import euclidean\n",
    "\n",
    "# Plot images and distance\n",
    "plotImgAndDistance(pizza_images[0], paella_images[0], distance)"
   ]
  },
  {
   "cell_type": "markdown",
   "metadata": {
    "id": "4Zk1BTSaFY4d"
   },
   "source": [
    "**Exercise:** Try the algorithm with comparing another images and see what happens. Do the results make sense?"
   ]
  },
  {
   "cell_type": "markdown",
   "metadata": {},
   "source": [
    "## Rotated Gaussian filters"
   ]
  },
  {
   "cell_type": "markdown",
   "metadata": {},
   "source": [
    "### Pizza vs pizza"
   ]
  },
  {
   "cell_type": "code",
   "execution_count": null,
   "metadata": {},
   "outputs": [],
   "source": [
    "from skimage.transform import rotate\n",
    "# Load images\n",
    "im1 = skimage.color.rgb2gray(pizza_images[0])\n",
    "im2 = skimage.color.rgb2gray(pizza_images[2])\n",
    "\n",
    "# Color rotated images\n",
    "color_rotated_img1 = rotate(pizza_images[0], angle=30, resize=False, center=None, order=1, mode='constant', cval=0, clip=True, preserve_range=False)\n",
    "color_rotated_img2 = rotate(pizza_images[2], angle=30, resize=False, center=None, order=1, mode='constant', cval=0, clip=True, preserve_range=False)\n",
    "\n",
    "# Rotated images\n",
    "rotated_img1 = rotate(im1, angle=30, resize=False, center=None, order=1, mode='constant', cval=0, clip=True, preserve_range=False)\n",
    "rotated_img2 = rotate(im2, angle=30, resize=False, center=None, order=1, mode='constant', cval=0, clip=True, preserve_range=False)\n",
    "\n",
    "\n",
    "# Feature vector\n",
    "n_filters = filter_bank.shape[-1]\n",
    "features_for_im1 = features_from_filter_bank(rotated_img1, filter_bank, n_filters)\n",
    "features_for_im2 = features_from_filter_bank(rotated_img2, filter_bank, n_filters)\n",
    "\n",
    "\n",
    "# Compute distance\n",
    "distance = np.sqrt(np.sum((features_for_im1 - features_for_im2)**2)) \n",
    "\n",
    "# Plot images and distance\n",
    "plotImgAndDistance(color_rotated_img1, color_rotated_img2, distance)"
   ]
  },
  {
   "cell_type": "markdown",
   "metadata": {},
   "source": [
    "### Pizza vs flower"
   ]
  },
  {
   "cell_type": "code",
   "execution_count": null,
   "metadata": {},
   "outputs": [],
   "source": [
    "# Load images\n",
    "im1 = skimage.color.rgb2gray(pizza_images[0])\n",
    "im2 = skimage.color.rgb2gray(flowers_images[2])\n",
    "\n",
    "# Color rotated images\n",
    "color_rotated_img1 = rotate(pizza_images[0], angle=70, resize=False, center=None, order=1, mode='constant', cval=0, clip=True, preserve_range=False)\n",
    "color_rotated_img2 = rotate(flowers_images[2], angle=70, resize=False, center=None, order=1, mode='constant', cval=0, clip=True, preserve_range=False)\n",
    "\n",
    "#Rotated images\n",
    "rotated_img1 = rotate(im1, angle=70, resize=False, center=None, order=1, mode='constant', cval=0, clip=True, preserve_range=False)\n",
    "rotated_img2 = rotate(im2, angle=70, resize=False, center=None, order=1, mode='constant', cval=0, clip=True, preserve_range=False)\n",
    "\n",
    "# Feature vector\n",
    "n_filters = filter_bank.shape[-1]\n",
    "features_for_im1 = features_from_filter_bank(rotated_img1, filter_bank, n_filters)\n",
    "features_for_im2 = features_from_filter_bank(rotated_img2, filter_bank, n_filters)\n",
    "\n",
    "\n",
    "# Compute distance\n",
    "distance = np.sqrt(np.sum((features_for_im1 - features_for_im2)**2)) \n",
    "\n",
    "# Plot images and distance\n",
    "plotImgAndDistance(color_rotated_img1, color_rotated_img2, distance)"
   ]
  },
  {
   "cell_type": "markdown",
   "metadata": {},
   "source": [
    "### Pizza vs paella"
   ]
  },
  {
   "cell_type": "code",
   "execution_count": null,
   "metadata": {},
   "outputs": [],
   "source": [
    "# Load images\n",
    "im1 = skimage.color.rgb2gray(pizza_images[0])\n",
    "im2 = skimage.color.rgb2gray(paella_images[0])\n",
    "\n",
    "\n",
    "#Color rotated images\n",
    "color_rotated_img1 = rotate(pizza_images[0], angle=145, resize=False, center=None, order=1, mode='constant', cval=0, clip=True, preserve_range=False)\n",
    "color_rotated_img2 = rotate(paella_images[0], angle=145, resize=False, center=None, order=1, mode='constant', cval=0, clip=True, preserve_range=False)\n",
    "\n",
    "\n",
    "#Rotated images\n",
    "rotated_img1 = rotate(im1, angle=145, resize=False, center=None, order=1, mode='constant', cval=0, clip=True, preserve_range=False)\n",
    "rotated_img2 = rotate(im2, angle=145, resize=False, center=None, order=1, mode='constant', cval=0, clip=True, preserve_range=False)\n",
    "\n",
    "\n",
    "# Feature vector\n",
    "n_filters = filter_bank.shape[-1]\n",
    "features_for_im1 = features_from_filter_bank(rotated_img1, filter_bank, n_filters)\n",
    "features_for_im2 = features_from_filter_bank(rotated_img2, filter_bank, n_filters)\n",
    "\n",
    "\n",
    "# Compute distance\n",
    "distance = np.sqrt(np.sum((features_for_im1 - features_for_im2)**2)) \n",
    "\n",
    "# Plot images and distance\n",
    "plotImgAndDistance(color_rotated_img1, color_rotated_img2, distance)"
   ]
  },
  {
   "cell_type": "markdown",
   "metadata": {},
   "source": [
    "**Exercise:** Describe what happens to the distance when you apply a rotation. Is it invariable to rotation? "
   ]
  },
  {
   "cell_type": "markdown",
   "metadata": {},
   "source": [
    "## Rescaled intensity Gaussian filters"
   ]
  },
  {
   "cell_type": "markdown",
   "metadata": {},
   "source": [
    "### Pizza vs pizza"
   ]
  },
  {
   "cell_type": "code",
   "execution_count": null,
   "metadata": {},
   "outputs": [],
   "source": [
    "# Load images\n",
    "im1 = skimage.color.rgb2gray(pizza_images[0])\n",
    "im2 = skimage.color.rgb2gray(pizza_images[2])\n",
    "\n",
    "#Rescaled images\n",
    "rescaled_img1 = im1/2\n",
    "rescaled_img2 = im2/2\n",
    "\n",
    "# Feature vector\n",
    "n_filters = filter_bank.shape[-1]\n",
    "features_for_im1 = features_from_filter_bank(rescaled_img1, filter_bank, n_filters)\n",
    "features_for_im2 = features_from_filter_bank(rescaled_img2, filter_bank, n_filters)\n",
    "\n",
    "# Compute distance\n",
    "distance = np.sqrt(np.sum((features_for_im1 - features_for_im2)**2)) \n",
    "\n",
    "# Plot images and distance\n",
    "plotImgAndDistance(pizza_images[0], pizza_images[2], distance)"
   ]
  },
  {
   "cell_type": "markdown",
   "metadata": {},
   "source": [
    "### Pizza vs flower"
   ]
  },
  {
   "cell_type": "code",
   "execution_count": null,
   "metadata": {},
   "outputs": [],
   "source": [
    "\n",
    "# Load images\n",
    "im1 = skimage.color.rgb2gray(pizza_images[0])\n",
    "im2 = skimage.color.rgb2gray(flowers_images[2])\n",
    "\n",
    "#Rescaled images\n",
    "rescaled_img1 = im1/2\n",
    "rescaled_img2 = im2/2\n",
    "\n",
    "# Feature vector\n",
    "n_filters = filter_bank.shape[-1]\n",
    "features_for_im1 = features_from_filter_bank(rescaled_img1, filter_bank, n_filters)\n",
    "features_for_im2 = features_from_filter_bank(rescaled_img2, filter_bank, n_filters)\n",
    "\n",
    "\n",
    "# Compute distance\n",
    "distance = np.sqrt(np.sum((features_for_im1 - features_for_im2)**2)) \n",
    "\n",
    "# Plot images and distance\n",
    "plotImgAndDistance(pizza_images[0], flowers_images[2], distance)"
   ]
  },
  {
   "cell_type": "markdown",
   "metadata": {},
   "source": [
    "### Pizza vs paella"
   ]
  },
  {
   "cell_type": "code",
   "execution_count": null,
   "metadata": {
    "scrolled": true
   },
   "outputs": [],
   "source": [
    "# Load images\n",
    "im1 = skimage.color.rgb2gray(pizza_images[0])\n",
    "im2 = skimage.color.rgb2gray(paella_images[0])\n",
    "\n",
    "#Rescaled images\n",
    "rescaled_img1 = im1/2\n",
    "rescaled_img2 = im2/2\n",
    "\n",
    "# Feature vector\n",
    "n_filters = filter_bank.shape[-1]\n",
    "features_for_im1 = features_from_filter_bank(rescaled_img1, filter_bank, n_filters)\n",
    "features_for_im2 = features_from_filter_bank(rescaled_img2, filter_bank, n_filters)\n",
    "\n",
    "\n",
    "# Compute distance\n",
    "distance = np.sqrt(np.sum((features_for_im1 - features_for_im2)**2)) \n",
    "\n",
    "# Plot images and distance\n",
    "plotImgAndDistance(pizza_images[0], paella_images[0], distance)"
   ]
  },
  {
   "cell_type": "markdown",
   "metadata": {},
   "source": [
    "**Exercise:** Does the intensity rescaling affect the results?"
   ]
  },
  {
   "cell_type": "markdown",
   "metadata": {},
   "source": [
    "## Rescaled Gaussian filters"
   ]
  },
  {
   "cell_type": "markdown",
   "metadata": {},
   "source": [
    "### Pizza vs pizza"
   ]
  },
  {
   "cell_type": "code",
   "execution_count": null,
   "metadata": {},
   "outputs": [],
   "source": [
    "from skimage.transform import rescale\n",
    "\n",
    "# Load images\n",
    "im1 = skimage.color.rgb2gray(pizza_images[0])\n",
    "im2 = skimage.color.rgb2gray(pizza_images[2])\n",
    "\n",
    "#Rescaled images\n",
    "rescaled_img1 = rescale(im1, 0.5)\n",
    "rescaled_img2 = rescale(im2, 0.5)\n",
    "\n",
    "# Feature vector\n",
    "n_filters = filter_bank.shape[-1]\n",
    "features_for_im1 = features_from_filter_bank(rescaled_img1, filter_bank, n_filters)\n",
    "features_for_im2 = features_from_filter_bank(rescaled_img2, filter_bank, n_filters)\n",
    "\n",
    "# Compute distance\n",
    "distance = np.sqrt(np.sum((features_for_im1 - features_for_im2)**2)) \n",
    "\n",
    "# Plot images and distance\n",
    "plotImgAndDistance(pizza_images[0], pizza_images[2], distance)"
   ]
  },
  {
   "cell_type": "markdown",
   "metadata": {},
   "source": [
    "### Pizza vs flower"
   ]
  },
  {
   "cell_type": "code",
   "execution_count": null,
   "metadata": {},
   "outputs": [],
   "source": [
    "# Load images\n",
    "im1 = skimage.color.rgb2gray(pizza_images[0])\n",
    "im2 = skimage.color.rgb2gray(flowers_images[2])\n",
    "\n",
    "#Rescaled images\n",
    "rescaled_img1 = rescale(im1, 0.5)\n",
    "rescaled_img2 = rescale(im2, 0.5)\n",
    "\n",
    "# Feature vector\n",
    "n_filters = filter_bank.shape[-1]\n",
    "features_for_im1 = features_from_filter_bank(rescaled_img1, filter_bank, n_filters)\n",
    "features_for_im2 = features_from_filter_bank(rescaled_img2, filter_bank, n_filters)\n",
    "\n",
    "\n",
    "# Compute distance\n",
    "distance = np.sqrt(np.sum((features_for_im1 - features_for_im2)**2)) \n",
    "\n",
    "# Plot images and distance\n",
    "plotImgAndDistance(pizza_images[0], flowers_images[2], distance)"
   ]
  },
  {
   "cell_type": "markdown",
   "metadata": {},
   "source": [
    "### Pizza vs paella"
   ]
  },
  {
   "cell_type": "code",
   "execution_count": null,
   "metadata": {},
   "outputs": [],
   "source": [
    "# Load images\n",
    "im1 = skimage.color.rgb2gray(pizza_images[0])\n",
    "im2 = skimage.color.rgb2gray(paella_images[0])\n",
    "\n",
    "#Rescaled images\n",
    "rescaled_img1 = rescale(im1, 0.5)\n",
    "rescaled_img2 = rescale(im2, 0.5)\n",
    "\n",
    "# Feature vector\n",
    "n_filters = filter_bank.shape[-1]\n",
    "features_for_im1 = features_from_filter_bank(rescaled_img1, filter_bank, n_filters)\n",
    "features_for_im2 = features_from_filter_bank(rescaled_img2, filter_bank, n_filters)\n",
    "\n",
    "\n",
    "# Compute distance\n",
    "distance = np.sqrt(np.sum((features_for_im1 - features_for_im2)**2)) \n",
    "\n",
    "# Plot images and distance\n",
    "plotImgAndDistance(pizza_images[0], paella_images[0], distance)"
   ]
  },
  {
   "cell_type": "markdown",
   "metadata": {},
   "source": [
    "**Exercise:** Does the rescaling affect the results?"
   ]
  },
  {
   "cell_type": "markdown",
   "metadata": {},
   "source": [
    "## 1.2. Similarity using Local Binary Pattern"
   ]
  },
  {
   "cell_type": "markdown",
   "metadata": {},
   "source": [
    "**Local binary pattern** is an invariant descriptor. Let's see the most important arguments:\n",
    "\n",
    "- Image\n",
    "- P: Number of circularly symmetric neighbour set points\n",
    "- R: Radius of circle\n",
    "- method: method to determine the pattern --> default, ror, uniform, nri_uniform, var\n",
    "\n",
    "Check LBP scikit-image documentation  [scikit-image documentation](https://scikit-image.org/docs/dev/api/skimage.feature.html#skimage.feature.local_binary_pattern)"
   ]
  },
  {
   "cell_type": "code",
   "execution_count": null,
   "metadata": {},
   "outputs": [],
   "source": [
    "# Imports\n",
    "from skimage.feature import local_binary_pattern"
   ]
  },
  {
   "cell_type": "code",
   "execution_count": null,
   "metadata": {},
   "outputs": [],
   "source": [
    "# LBP parameters:\n",
    "n_points = 8\n",
    "radius = 1\n",
    "METHOD = 'uniform'\n",
    "\n",
    "def LBP(im1_gray, radius, n_points, METHOD):\n",
    "    \n",
    "    patterns = local_binary_pattern(im1_gray, n_points, radius)\n",
    "    hist, _ = np.histogram(patterns, bins=np.arange(2**n_points + radius), density=True)\n",
    "    return hist"
   ]
  },
  {
   "cell_type": "markdown",
   "metadata": {},
   "source": [
    "### Pizza vs pizza"
   ]
  },
  {
   "cell_type": "code",
   "execution_count": null,
   "metadata": {},
   "outputs": [],
   "source": [
    "# Load images\n",
    "im1 = skimage.color.rgb2gray(pizza_images[0])\n",
    "im2 = skimage.color.rgb2gray(pizza_images[2])\n",
    "\n",
    "# Feature vector\n",
    "features_for_im1 = LBP(im1, n_points, radius, METHOD)\n",
    "features_for_im2 = LBP(im2, n_points, radius, METHOD)\n",
    "\n",
    "# Compute distance\n",
    "distance = np.sqrt(np.sum((features_for_im1 - features_for_im2)**2)) # Alternative from scipy.spatial.distance import euclidean\n",
    "\n",
    "# Plot images and distance\n",
    "plotImgAndDistance(pizza_images[0], pizza_images[2], distance)"
   ]
  },
  {
   "cell_type": "markdown",
   "metadata": {},
   "source": [
    "### Pizza vs flower"
   ]
  },
  {
   "cell_type": "code",
   "execution_count": null,
   "metadata": {},
   "outputs": [],
   "source": [
    "# Load images\n",
    "im1 = skimage.color.rgb2gray(pizza_images[0])\n",
    "im2 = skimage.color.rgb2gray(flowers_images[2])\n",
    "\n",
    "\n",
    "# Feature vector\n",
    "features_for_im1 = LBP(im1, n_points, radius, METHOD)\n",
    "features_for_im2 = LBP(im2, n_points, radius, METHOD)\n",
    "\n",
    "# Compute distance\n",
    "distance = np.sqrt(np.sum((features_for_im1 - features_for_im2)**2)) \n",
    "\n",
    "# Plot images and distance\n",
    "plotImgAndDistance(pizza_images[0], flowers_images[2], distance)"
   ]
  },
  {
   "cell_type": "markdown",
   "metadata": {},
   "source": [
    "### Pizza vs paella"
   ]
  },
  {
   "cell_type": "code",
   "execution_count": null,
   "metadata": {},
   "outputs": [],
   "source": [
    "# Load images\n",
    "im1 = skimage.color.rgb2gray(pizza_images[0])\n",
    "im2 = skimage.color.rgb2gray(paella_images[0])\n",
    "\n",
    "# Feature vector\n",
    "features_for_im1 = LBP(im1, n_points, radius, METHOD)\n",
    "features_for_im2 = LBP(im2, n_points, radius, METHOD)\n",
    "\n",
    "# Compute distance\n",
    "distance = np.sqrt(np.sum((features_for_im1 - features_for_im2)**2)) \n",
    "\n",
    "# Plot images and distance\n",
    "plotImgAndDistance(pizza_images[0], paella_images[0], distance)"
   ]
  },
  {
   "cell_type": "markdown",
   "metadata": {},
   "source": [
    "**Exercise:** Do the results make sense?\n",
    "\n",
    "**Exercise:** Try the algorithm with comparing another images and see what happens. "
   ]
  },
  {
   "cell_type": "markdown",
   "metadata": {},
   "source": [
    "## Rotated LBP"
   ]
  },
  {
   "cell_type": "markdown",
   "metadata": {},
   "source": [
    "### Pizza vs pizza"
   ]
  },
  {
   "cell_type": "code",
   "execution_count": null,
   "metadata": {},
   "outputs": [],
   "source": [
    "# Load images\n",
    "im1 = skimage.color.rgb2gray(pizza_images[0])\n",
    "im2 = skimage.color.rgb2gray(pizza_images[2])\n",
    "\n",
    "# Color rotated images\n",
    "color_rotated_img1 = rotate(pizza_images[0], angle=30, resize=False, center=None, order=1, mode='constant', cval=0, clip=True, preserve_range=False)\n",
    "color_rotated_img2 = rotate(pizza_images[2], angle=30, resize=False, center=None, order=1, mode='constant', cval=0, clip=True, preserve_range=False)\n",
    "\n",
    "# Rotated images\n",
    "rotated_img1 = rotate(im1, angle=30, resize=False, center=None, order=1, mode='constant', cval=0, clip=True, preserve_range=False)\n",
    "rotated_img2 = rotate(im2, angle=30, resize=False, center=None, order=1, mode='constant', cval=0, clip=True, preserve_range=False)\n",
    "\n",
    "# Feature vector\n",
    "features_for_im1 = LBP(rotated_img1, n_points, radius, METHOD)\n",
    "features_for_im2 = LBP(rotated_img2, n_points, radius, METHOD)\n",
    "\n",
    "# Compute distance\n",
    "distance = np.sqrt(np.sum((features_for_im1 - features_for_im2)**2)) \n",
    "\n",
    "# Plot images and distance\n",
    "plotImgAndDistance(color_rotated_img1, color_rotated_img2, distance)\n"
   ]
  },
  {
   "cell_type": "markdown",
   "metadata": {},
   "source": [
    "### Pizza vs flower"
   ]
  },
  {
   "cell_type": "code",
   "execution_count": null,
   "metadata": {},
   "outputs": [],
   "source": [
    "# Load images\n",
    "im1 = skimage.color.rgb2gray(pizza_images[0])\n",
    "im2 = skimage.color.rgb2gray(flowers_images[2])\n",
    "\n",
    "# Color rotated images\n",
    "color_rotated_img1 = rotate(pizza_images[0], angle=70, resize=False, center=None, order=1, mode='constant', cval=0, clip=True, preserve_range=False)\n",
    "color_rotated_img2 = rotate(flowers_images[2], angle=70, resize=False, center=None, order=1, mode='constant', cval=0, clip=True, preserve_range=False)\n",
    "\n",
    "#Rotated images\n",
    "rotated_img1 = rotate(im1, angle=70, resize=False, center=None, order=1, mode='constant', cval=0, clip=True, preserve_range=False)\n",
    "rotated_img2 = rotate(im2, angle=70, resize=False, center=None, order=1, mode='constant', cval=0, clip=True, preserve_range=False)\n",
    "\n",
    "# Feature vector\n",
    "features_for_im1 = LBP(rotated_img1, n_points, radius, METHOD)\n",
    "features_for_im2 = LBP(rotated_img2, n_points, radius, METHOD)\n",
    "\n",
    "# Compute distance\n",
    "distance = np.sqrt(np.sum((features_for_im1 - features_for_im2)**2)) \n",
    "\n",
    "# Plot images and distance\n",
    "plotImgAndDistance(color_rotated_img1, color_rotated_img2, distance)"
   ]
  },
  {
   "cell_type": "markdown",
   "metadata": {},
   "source": [
    "### Pizza vs paella"
   ]
  },
  {
   "cell_type": "code",
   "execution_count": null,
   "metadata": {
    "scrolled": true
   },
   "outputs": [],
   "source": [
    "# Load images\n",
    "im1 = skimage.color.rgb2gray(pizza_images[0])\n",
    "im2 = skimage.color.rgb2gray(paella_images[0])\n",
    "\n",
    "#Color rotated images\n",
    "color_rotated_img1 = rotate(pizza_images[0], angle=145, resize=False, center=None, order=1, mode='constant', cval=0, clip=True, preserve_range=False)\n",
    "color_rotated_img2 = rotate(paella_images[0], angle=145, resize=False, center=None, order=1, mode='constant', cval=0, clip=True, preserve_range=False)\n",
    "\n",
    "#Rotated images\n",
    "rotated_img1 = rotate(im1, angle=145, resize=False, center=None, order=1, mode='constant', cval=0, clip=True, preserve_range=False)\n",
    "rotated_img2 = rotate(im2, angle=145, resize=False, center=None, order=1, mode='constant', cval=0, clip=True, preserve_range=False)\n",
    "\n",
    "# Feature vector\n",
    "features_for_im1 = LBP(rotated_img1, n_points, radius, METHOD)\n",
    "features_for_im2 = LBP(rotated_img2, n_points, radius, METHOD)\n",
    "\n",
    "# Compute distance\n",
    "distance = np.sqrt(np.sum((features_for_im1 - features_for_im2)**2)) \n",
    "\n",
    "# Plot images and distance\n",
    "plotImgAndDistance(color_rotated_img1, color_rotated_img2, distance)"
   ]
  },
  {
   "cell_type": "markdown",
   "metadata": {},
   "source": [
    "**Exercise:** Describe what happens to the distance when you apply a rotation. Is it invariable to rotation? "
   ]
  },
  {
   "cell_type": "markdown",
   "metadata": {},
   "source": [
    "## Rescaled intensity LBP"
   ]
  },
  {
   "cell_type": "markdown",
   "metadata": {},
   "source": [
    "### Pizza vs pizza"
   ]
  },
  {
   "cell_type": "code",
   "execution_count": null,
   "metadata": {},
   "outputs": [],
   "source": [
    "# Load images\n",
    "im1 = skimage.color.rgb2gray(pizza_images[0])\n",
    "im2 = skimage.color.rgb2gray(pizza_images[2])\n",
    "\n",
    "#Rescaled images\n",
    "rescaled_img1 = im1/2\n",
    "rescaled_img2 = im2/2\n",
    "\n",
    "# Feature vector\n",
    "features_for_im1 = LBP(rescaled_img1, n_points, radius, METHOD)\n",
    "features_for_im2 = LBP(rescaled_img2, n_points, radius, METHOD)\n",
    "\n",
    "# Compute distance\n",
    "distance = np.sqrt(np.sum((features_for_im1 - features_for_im2)**2)) \n",
    "\n",
    "# Plot images and distance\n",
    "plotImgAndDistance(pizza_images[0], pizza_images[2], distance)"
   ]
  },
  {
   "cell_type": "markdown",
   "metadata": {},
   "source": [
    "### Pizza vs flower"
   ]
  },
  {
   "cell_type": "code",
   "execution_count": null,
   "metadata": {},
   "outputs": [],
   "source": [
    "# Load images\n",
    "im1 = skimage.color.rgb2gray(pizza_images[0])\n",
    "im2 = skimage.color.rgb2gray(flowers_images[2])\n",
    "\n",
    "#Rescaled images\n",
    "rescaled_img1 = im1/2\n",
    "rescaled_img2 = im2/2\n",
    "\n",
    "# Feature vector\n",
    "features_for_im1 = LBP(rescaled_img1, n_points, radius, METHOD)\n",
    "features_for_im2 = LBP(rescaled_img2, n_points, radius, METHOD)\n",
    "\n",
    "# Compute distance\n",
    "distance = np.sqrt(np.sum((features_for_im1 - features_for_im2)**2)) \n",
    "\n",
    "# Plot images and distance\n",
    "plotImgAndDistance(pizza_images[0], flowers_images[2], distance)"
   ]
  },
  {
   "cell_type": "markdown",
   "metadata": {},
   "source": [
    "### Pizza vs paella"
   ]
  },
  {
   "cell_type": "code",
   "execution_count": null,
   "metadata": {},
   "outputs": [],
   "source": [
    "# Load images\n",
    "im1 = skimage.color.rgb2gray(pizza_images[0])\n",
    "im2 = skimage.color.rgb2gray(paella_images[0])\n",
    "\n",
    "#Rescaled images\n",
    "rescaled_img1 = im1/2\n",
    "rescaled_img2 = im2/2\n",
    "\n",
    "# Feature vector\n",
    "features_for_im1 = LBP(rescaled_img1, n_points, radius, METHOD)\n",
    "features_for_im2 = LBP(rescaled_img2, n_points, radius, METHOD)\n",
    "\n",
    "# Compute distance\n",
    "distance = np.sqrt(np.sum((features_for_im1 - features_for_im2)**2)) \n",
    "\n",
    "# Plot images and distance\n",
    "plotImgAndDistance(pizza_images[0], paella_images[0], distance)"
   ]
  },
  {
   "cell_type": "markdown",
   "metadata": {},
   "source": [
    "**Exercise:** Does the intensity rescaling affect the results?"
   ]
  },
  {
   "cell_type": "markdown",
   "metadata": {},
   "source": [
    "## Rescaled LBP"
   ]
  },
  {
   "cell_type": "markdown",
   "metadata": {},
   "source": [
    "### Pizza vs pizza"
   ]
  },
  {
   "cell_type": "code",
   "execution_count": null,
   "metadata": {},
   "outputs": [],
   "source": [
    "from skimage.transform import rescale\n",
    "\n",
    "# Load images\n",
    "im1 = skimage.color.rgb2gray(pizza_images[0])\n",
    "im2 = skimage.color.rgb2gray(pizza_images[2])\n",
    "\n",
    "#Rescaled images\n",
    "rescaled_img1 = rescale(im1, 0.5)\n",
    "rescaled_img2 = rescale(im2, 0.5)\n",
    "\n",
    "# Feature vector\n",
    "features_for_im1 = LBP(rescaled_img1, n_points, radius, METHOD)\n",
    "features_for_im2 = LBP(rescaled_img2, n_points, radius, METHOD)\n",
    "\n",
    "# Compute distance\n",
    "distance = np.sqrt(np.sum((features_for_im1 - features_for_im2)**2)) \n",
    "\n",
    "# Plot images and distance\n",
    "plotImgAndDistance(pizza_images[0], pizza_images[2], distance)"
   ]
  },
  {
   "cell_type": "markdown",
   "metadata": {},
   "source": [
    "### Pizza vs flower"
   ]
  },
  {
   "cell_type": "code",
   "execution_count": null,
   "metadata": {},
   "outputs": [],
   "source": [
    "# Load images\n",
    "im1 = skimage.color.rgb2gray(pizza_images[0])\n",
    "im2 = skimage.color.rgb2gray(flowers_images[2])\n",
    "\n",
    "#Rescaled images\n",
    "rescaled_img1 = rescale(im1, 0.5)\n",
    "rescaled_img2 = rescale(im2, 0.5)\n",
    "\n",
    "# Feature vector\n",
    "features_for_im1 = LBP(rescaled_img1, n_points, radius, METHOD)\n",
    "features_for_im2 = LBP(rescaled_img2, n_points, radius, METHOD)\n",
    "\n",
    "# Compute distance\n",
    "distance = np.sqrt(np.sum((features_for_im1 - features_for_im2)**2)) \n",
    "\n",
    "# Plot images and distance\n",
    "plotImgAndDistance(pizza_images[0], flowers_images[2], distance)"
   ]
  },
  {
   "cell_type": "markdown",
   "metadata": {},
   "source": [
    "### Pizza vs paella"
   ]
  },
  {
   "cell_type": "code",
   "execution_count": null,
   "metadata": {},
   "outputs": [],
   "source": [
    "# Load images\n",
    "im1 = skimage.color.rgb2gray(pizza_images[0])\n",
    "im2 = skimage.color.rgb2gray(paella_images[0])\n",
    "\n",
    "#Rescaled images\n",
    "rescaled_img1 = rescale(im1, 0.5)\n",
    "rescaled_img2 = rescale(im2, 0.5)\n",
    "\n",
    "# Feature vector\n",
    "features_for_im1 = LBP(rescaled_img1, n_points, radius, METHOD)\n",
    "features_for_im2 = LBP(rescaled_img2, n_points, radius, METHOD)\n",
    "\n",
    "# Compute distance\n",
    "distance = np.sqrt(np.sum((features_for_im1 - features_for_im2)**2)) \n",
    "\n",
    "# Plot images and distance\n",
    "plotImgAndDistance(pizza_images[0], paella_images[0], distance)"
   ]
  },
  {
   "cell_type": "markdown",
   "metadata": {},
   "source": [
    "**Exercise:** Does the rescaling affect the results?"
   ]
  },
  {
   "cell_type": "markdown",
   "metadata": {},
   "source": [
    "## 1.3.  Gaussian filters vs LBP similarity search"
   ]
  },
  {
   "cell_type": "markdown",
   "metadata": {},
   "source": [
    "**Exercise:** Which transformations affect the result the most? "
   ]
  },
  {
   "cell_type": "markdown",
   "metadata": {},
   "source": [
    "**Exercise:** Check the two algorithms with another images. What do you think works better? Why?"
   ]
  },
  {
   "cell_type": "markdown",
   "metadata": {
    "id": "O2rnPCNyFY4d"
   },
   "source": [
    "## 2. Retrieving the most similiar images based on texture"
   ]
  },
  {
   "cell_type": "markdown",
   "metadata": {
    "id": "URU0N1QJFY4d"
   },
   "source": [
    "At this point, we can compute the similarity between the image and the rest of the database. Then we can find the closest image $x^{m^*}$ from the database to $x$ as $m^* =  \\text{argmin}_{m} \\{ \\| \\text{feat}(x)  - \\text{feat}(x^m)  \\|_2 \\}$\n",
    "\n",
    "\n",
    "\n"
   ]
  },
  {
   "cell_type": "markdown",
   "metadata": {
    "id": "Yje-Vqc6FY4d"
   },
   "source": [
    "### Extract the image features "
   ]
  },
  {
   "cell_type": "code",
   "execution_count": null,
   "metadata": {
    "id": "CZ3QhcZdFY4d"
   },
   "outputs": [],
   "source": [
    "# For instance, let's work with the first 9 images\n",
    "original_images = [pizza_images[0], flowers_images[0], paella_images[0], \n",
    "                   pizza_images[1], flowers_images[1], paella_images[1], \n",
    "                   pizza_images[2], flowers_images[2], paella_images[2]]\n",
    "\n",
    "im1 = rgb2gray(pizza_images[0])\n",
    "im2 = rgb2gray(flowers_images[0])\n",
    "im3 = rgb2gray(paella_images[0])\n",
    "im4 = rgb2gray(pizza_images[1])\n",
    "im5 = rgb2gray(flowers_images[1])\n",
    "im6 = rgb2gray(paella_images[1])\n",
    "im7 = rgb2gray(pizza_images[2])\n",
    "im8 = rgb2gray(flowers_images[2])\n",
    "im9 = rgb2gray(paella_images[2])\n",
    "\n",
    "\n",
    "# save the features in a vector.\n",
    "features_vector = []\n",
    "n_filters = filter_bank.shape[-1]\n",
    "features_vector.append(features_from_filter_bank(im1, filter_bank, n_filters))\n",
    "features_vector.append(features_from_filter_bank(im2, filter_bank, n_filters))\n",
    "features_vector.append(features_from_filter_bank(im3, filter_bank, n_filters))\n",
    "features_vector.append(features_from_filter_bank(im4, filter_bank, n_filters))\n",
    "features_vector.append(features_from_filter_bank(im5, filter_bank, n_filters))\n",
    "features_vector.append(features_from_filter_bank(im6, filter_bank, n_filters))\n",
    "features_vector.append(features_from_filter_bank(im7, filter_bank, n_filters))\n",
    "features_vector.append(features_from_filter_bank(im8, filter_bank, n_filters))\n",
    "features_vector.append(features_from_filter_bank(im9, filter_bank, n_filters))\n",
    "\n"
   ]
  },
  {
   "cell_type": "code",
   "execution_count": null,
   "metadata": {
    "id": "qHRmjgpoFY4d",
    "outputId": "a0a42849-574d-4bc0-b306-888e26e25815"
   },
   "outputs": [],
   "source": [
    "# Convert to an array with shape = (len(images), len(feature))\n",
    "X = np.array(features_vector)\n",
    "print(X.shape)\n",
    "# Prepare the query image\n",
    "img_index = 5\n",
    "query_1 = X[img_index, :]\n",
    "\n",
    "# Display the query images\n",
    "plt.imshow(original_images[img_index])\n",
    "plt.title('Image to retrieve the most similar images')"
   ]
  },
  {
   "cell_type": "markdown",
   "metadata": {
    "id": "fxw7yDDrFY4d"
   },
   "source": [
    "**Exercise:** Create a function to get the most similar images"
   ]
  },
  {
   "cell_type": "code",
   "execution_count": null,
   "metadata": {
    "id": "B2SzYWA2FY4d",
    "outputId": "d3b41f88-f96a-4dc0-fcec-f0e89879ca72"
   },
   "outputs": [],
   "source": [
    "# Query: feature vector of the img_index\n",
    "# X: array with all feature vectors, shape = (len(features_vector), len(feature))\n",
    "# K: desired number of most similar images\n",
    "\n",
    "def retrieve_k_images_from_X(query, X, k):\n",
    "    # Compute the distances\n",
    "    # Sort distances \n",
    "    # Get the K most similar images\n",
    "    # Plot the closest images to query\n",
    "    "
   ]
  },
  {
   "cell_type": "markdown",
   "metadata": {
    "id": "NLJBBuJqFY4d"
   },
   "source": [
    "\n",
    "**Exercise:** Select one image and compare it with the dataset. What is the closest image? And the furthest images?\n",
    "\n",
    "**Exercise:** Use LBP to extract the features. What is the closest image? And the furthest images?"
   ]
  },
  {
   "cell_type": "markdown",
   "metadata": {
    "id": "Q7WJK0VzFY4d"
   },
   "source": [
    "## 3. Retrieving the most similiar images based on color"
   ]
  },
  {
   "cell_type": "markdown",
   "metadata": {
    "id": "dsjE3dV6FY4d"
   },
   "source": [
    "If the previous feature vectors had 49 components now they will have 49*3 components. \n",
    "\n",
    "\n",
    "**Exercise**: Make a function that applies the filter to the 3 channels and save the mean"
   ]
  },
  {
   "cell_type": "code",
   "execution_count": null,
   "metadata": {
    "id": "UiccoT6nFY4d"
   },
   "outputs": [],
   "source": [
    "def lm_features_rgb(image, filter_bank):\n",
    "\n",
    "    n_filters = len(filter_bank)\n",
    "    im_conv = np.array(image[:,:,0])\n",
    "    features_for_im = np.zeros(3*n_filters)\n",
    "    \n",
    "    for i in range(n_filters-1):\n",
    "        \n",
    "        # Apply filter to the first channel and save the mean\n",
    "        # Apply filter to the second channel and save the result\n",
    "        # Apply filter to the third channel and save the result\n",
    "        \n",
    "    return features_for_im"
   ]
  },
  {
   "cell_type": "markdown",
   "metadata": {
    "id": "sgJctjmzFY4d"
   },
   "source": [
    "**Exercise**: Get the most similar images using the new function lm_features_rgb"
   ]
  },
  {
   "cell_type": "markdown",
   "metadata": {
    "id": "WLV3vlMpFY4d"
   },
   "source": [
    "**Exercise**: Compare different queries using the two methods (based on color and texture)\n"
   ]
  }
 ],
 "metadata": {
  "colab": {
   "name": "Tutorial_Retrieving.ipynb",
   "provenance": []
  },
  "kernelspec": {
   "display_name": "Python 3",
   "language": "python",
   "name": "python3"
  },
  "language_info": {
   "codemirror_mode": {
    "name": "ipython",
    "version": 3
   },
   "file_extension": ".py",
   "mimetype": "text/x-python",
   "name": "python",
   "nbconvert_exporter": "python",
   "pygments_lexer": "ipython3",
   "version": "3.8.3"
  }
 },
 "nbformat": 4,
 "nbformat_minor": 1
}
