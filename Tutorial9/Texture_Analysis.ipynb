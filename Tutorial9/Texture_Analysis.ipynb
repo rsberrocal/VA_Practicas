{
 "cells": [
  {
   "cell_type": "markdown",
   "metadata": {},
   "source": [
    "# Texture analysis\n",
    "\n",
    "\n",
    "Texture has been the object of study for the last decades for the scientific community immersed in image processing. However, there is no consensus on its definition. From the definitions provided by different researchers we can say that the texture is a property related to the roguhness and/or change of reflectance of a surface and thus is characterized by the variation of pixel intensity in the spatial domain.\n",
    "\n",
    "Texture can be found in images of a different nature, for example, a specific biological tissue (muscle or nervous tissue), a terrain area, the surface of an object or the skin of a person or animal. Therefore, the characterization of the texture in an image is necessary in different real scenarios. Specifically, texture plays a relevant role in tasks such as medical diagnosis, remote sensing or biometric identification.\n",
    "\n",
    "In this tutorial we will see:\n",
    "\n",
    "- Local binary Patterns (LBP)\n",
    "- Gaussian filters\n",
    "- Image similarity based on texture "
   ]
  },
  {
   "cell_type": "markdown",
   "metadata": {},
   "source": [
    "## 1. Local Binary Patterns (LBP)\n",
    "\n",
    "It allows you to obtain a pixel-by-pixel transformation of the original image. The transformed value of a pixel is obtained from the comparison of its intensity value with neighboring pixels. Due to the ability of this operator to characterize the texture and its computational simplicity, LBPs have become a very common technique in various applications within image processing.\n",
    " \n",
    "The most important property of the LBP operator in real world applications is its robustness to monotonous grayscale changes caused, for example, by variations in lighting or noise presence in the images.\n",
    "\n",
    "<img src=\"images_notebook/LBP_steps.png\">\n",
    "\n",
    "Example of how it works\n",
    "\n",
    "\n",
    "<img src=\"images_notebook/LBP_steps_1.png\">\n",
    "\n",
    "<img src=\"images_notebook/LBP_ex.png\">\n",
    "\n",
    "\n"
   ]
  },
  {
   "cell_type": "markdown",
   "metadata": {},
   "source": [
    "### Imports"
   ]
  },
  {
   "cell_type": "code",
   "execution_count": null,
   "metadata": {},
   "outputs": [],
   "source": [
    "from skimage.transform import rotate\n",
    "from skimage.feature import local_binary_pattern\n",
    "from skimage import data\n",
    "from skimage.color import label2rgb\n",
    "import matplotlib.pyplot as plt\n",
    "import numpy as np\n",
    "import time\n",
    "import scipy\n",
    "from skimage import filters\n",
    "from skimage import io\n",
    "import os\n",
    "from skimage.util import img_as_float\n",
    "from skimage.transform import resize\n",
    "import skimage\n",
    "from skimage.color import rgb2gray\n",
    "\n",
    "%matplotlib inline\n"
   ]
  },
  {
   "cell_type": "markdown",
   "metadata": {},
   "source": [
    "### Load images"
   ]
  },
  {
   "cell_type": "code",
   "execution_count": null,
   "metadata": {},
   "outputs": [],
   "source": [
    "img1 = img_as_float(io.imread('textures_images/lbp_textures/texture1.gif'))\n",
    "img2 = img_as_float(io.imread('textures_images/lbp_textures/texture2.gif'))\n",
    "img3 = img_as_float(io.imread('textures_images/lbp_textures/texture3.gif'))"
   ]
  },
  {
   "cell_type": "code",
   "execution_count": null,
   "metadata": {},
   "outputs": [],
   "source": [
    "#visualize\n",
    "def visualize2(tigre_f,tigre_x,label1,label2):\n",
    "    #visualize\n",
    "    fig=plt.figure(figsize=(15,15))\n",
    "    fig.add_subplot(1,2,1)\n",
    "    plt.title(label1)\n",
    "    plt.imshow(tigre_f, cmap='gray')\n",
    "    plt.xticks([])\n",
    "    plt.yticks([])\n",
    "    fig.add_subplot(1,2,2)\n",
    "    plt.title(label2)\n",
    "    plt.xticks([])\n",
    "    plt.yticks([])\n",
    "    plt.imshow(tigre_x, cmap='gray')\n",
    "    \n",
    "def visualize3(tigre_f,tigre_x,tigre_xb,label1,label2,label3):\n",
    "    #visualize\n",
    "    fig=plt.figure(figsize=(15,15))\n",
    "    fig.add_subplot(1,3,1)\n",
    "    plt.title(label1)\n",
    "    plt.imshow(tigre_f, cmap='gray')\n",
    "    plt.xticks([])\n",
    "    plt.yticks([])\n",
    "    fig.add_subplot(1,3,2)\n",
    "    plt.title(label2)\n",
    "    plt.xticks([])\n",
    "    plt.yticks([])\n",
    "    plt.imshow(tigre_x, cmap='gray')\n",
    "    fig.add_subplot(1,3,3)\n",
    "    plt.xticks([])\n",
    "    plt.yticks([])\n",
    "    plt.title(label3)\n",
    "    plt.imshow(tigre_xb, cmap='gray')\n",
    "\n",
    "\n",
    "def visualize4(tigre1,tigre2,tigre3,tigre4,label1,label2,label3,label4):\n",
    "    #visualize\n",
    "    fig=plt.figure(figsize=(15,15))\n",
    "    fig.add_subplot(1,4,1)\n",
    "    plt.title(label1)\n",
    "    plt.imshow(tigre1, cmap='gray')\n",
    "    plt.xticks([])\n",
    "    plt.yticks([])\n",
    "    fig.add_subplot(1,4,2)\n",
    "    plt.title(label2)\n",
    "    plt.xticks([])\n",
    "    plt.yticks([])\n",
    "    plt.imshow(tigre2, cmap='gray')\n",
    "    fig.add_subplot(1,4,3)\n",
    "    plt.xticks([])\n",
    "    plt.yticks([])\n",
    "    plt.title(label3)\n",
    "    plt.imshow(tigre3, cmap='gray')\n",
    "    fig.add_subplot(1,4,4)\n",
    "    plt.xticks([])\n",
    "    plt.yticks([])\n",
    "    plt.title(label4)\n",
    "    plt.imshow(tigre4, cmap='gray')\n",
    "\n",
    "\n"
   ]
  },
  {
   "cell_type": "code",
   "execution_count": null,
   "metadata": {},
   "outputs": [],
   "source": [
    "visualize3(img1, img2, img3, 'Texture 1', 'Texture 2', 'Texture 3')"
   ]
  },
  {
   "cell_type": "markdown",
   "metadata": {},
   "source": [
    "**Local binary pattern** is an invariant descriptor. Let's see the most important arguments:\n",
    "\n",
    "- Image\n",
    "- P: Number of circularly symmetric neighbour set points\n",
    "- R: Radius of circle\n",
    "- method: method to determine the pattern --> default, ror, uniform, nri_uniform, var\n",
    "\n",
    "Check LBP scikit-image documentation  [scikit-image documentation](https://scikit-image.org/docs/dev/api/skimage.feature.html#skimage.feature.local_binary_pattern)\n"
   ]
  },
  {
   "cell_type": "markdown",
   "metadata": {},
   "source": [
    "### LBP"
   ]
  },
  {
   "cell_type": "code",
   "execution_count": null,
   "metadata": {},
   "outputs": [],
   "source": [
    "\n",
    "# settings for LBP\n",
    "radius = 1\n",
    "n_points = 8 * radius\n",
    "METHOD = 'uniform'\n",
    "\n",
    "\n",
    "def LBP(img1, img2, img3, radius, n_points, METHOD):\n",
    "    \n",
    "    def hist(ax, lbp):\n",
    "        n_bins = int(lbp.max() + 1)\n",
    "        return ax.hist(lbp.ravel(), density=True, bins=n_bins, range=(0, n_bins),\n",
    "                       facecolor='0.5')\n",
    "\n",
    "\n",
    "    def kullback_leibler_divergence(p, q):\n",
    "        p = np.asarray(p)\n",
    "        q = np.asarray(q)\n",
    "        filt = np.logical_and(p != 0, q != 0)\n",
    "        return np.sum(p[filt] * np.log2(p[filt] / q[filt]))\n",
    "\n",
    "\n",
    "    def match(refs, img):\n",
    "        best_score = 10\n",
    "        best_name = None\n",
    "        lbp = local_binary_pattern(img, n_points, radius, METHOD)\n",
    "        n_bins = int(lbp.max() + 1)\n",
    "        hist, _ = np.histogram(lbp, density=True, bins=n_bins, range=(0, n_bins))\n",
    "        for name, ref in refs.items():\n",
    "            ref_hist, _ = np.histogram(ref, density=True, bins=n_bins,\n",
    "                                       range=(0, n_bins))\n",
    "            score = kullback_leibler_divergence(hist, ref_hist)\n",
    "            if score < best_score:\n",
    "                best_score = score\n",
    "                best_name = name\n",
    "        return best_name\n",
    "\n",
    "\n",
    "    refs = {\n",
    "        'img1': local_binary_pattern(img1, n_points, radius, METHOD),\n",
    "        'img2': local_binary_pattern(img2, n_points, radius, METHOD),\n",
    "        'img3': local_binary_pattern(img3, n_points, radius, METHOD)\n",
    "    }\n",
    "\n",
    "    # classify rotated textures\n",
    "    print('Rotated images matched against references using LBP:')\n",
    "    print('original: img1, rotated: 30deg, match result: ',\n",
    "          match(refs, rotate(img1, angle=30, resize=False)))\n",
    "    print('original: img2, rotated: 70deg, match result: ',\n",
    "          match(refs, rotate(img2, angle=70, resize=False)))\n",
    "    print('original: img3, rotated: 145deg, match result: ',\n",
    "          match(refs, rotate(img3, angle=145, resize=False)))\n",
    "\n",
    "    # plot histograms of LBP of textures\n",
    "    fig, ((ax1, ax2, ax3), (ax4, ax5, ax6)) = plt.subplots(nrows=2, ncols=3,\n",
    "                                                           figsize=(9, 6))\n",
    "    plt.gray()\n",
    "\n",
    "    ax1.imshow(img1)\n",
    "    ax1.axis('off')\n",
    "    hist(ax4, refs['img1'])\n",
    "    ax4.set_ylabel('Percentage')\n",
    "\n",
    "    ax2.imshow(img2)\n",
    "    ax2.axis('off')\n",
    "    hist(ax5, refs['img2'])\n",
    "    ax5.set_xlabel('Uniform LBP values')\n",
    "\n",
    "    ax3.imshow(img3)\n",
    "    ax3.axis('off')\n",
    "    hist(ax6, refs['img3'])\n",
    "\n",
    "    plt.show()\n",
    "    \n",
    "LBP(img1, img2, img3, radius, n_points, METHOD)"
   ]
  },
  {
   "cell_type": "markdown",
   "metadata": {},
   "source": [
    "**Exercise:** Why do we have 26 labels?\n",
    "\n",
    "**Exercise:** What does the label 25 mean? And the label 26?"
   ]
  },
  {
   "cell_type": "markdown",
   "metadata": {},
   "source": [
    "What is the [Kullback-Leibler](https://en.wikipedia.org/wiki/Kullback%E2%80%93Leibler_divergence) divergence doing?"
   ]
  },
  {
   "cell_type": "markdown",
   "metadata": {},
   "source": [
    "Now test the same images changing the radius and the number of points.\n",
    "\n",
    "**Exercise:** What happens if you increase the radius? And the number of points?"
   ]
  },
  {
   "cell_type": "markdown",
   "metadata": {},
   "source": [
    "### Rotated LBP"
   ]
  },
  {
   "cell_type": "code",
   "execution_count": null,
   "metadata": {},
   "outputs": [],
   "source": [
    "from skimage.transform import rotate\n",
    "rotated_img1 = rotate(img1, angle=30, resize=False, center=None, order=1, mode='constant', cval=0, clip=True, preserve_range=False)\n",
    "rotated_img2 = rotate(img2, angle=145, resize=False, center=None, order=1, mode='constant', cval=0, clip=True, preserve_range=False)\n",
    "rotated_img3 = rotate(img3, angle=90, resize=False, center=None, order=1, mode='constant', cval=0, clip=True, preserve_range=False)"
   ]
  },
  {
   "cell_type": "code",
   "execution_count": null,
   "metadata": {},
   "outputs": [],
   "source": [
    "LBP(rotated_img1, rotated_img2, rotated_img3, radius, n_points, METHOD)"
   ]
  },
  {
   "cell_type": "markdown",
   "metadata": {},
   "source": [
    "**Exercise:** Is it invariable to rotation? The histogram is the same as the image without rotating?\n",
    "\n",
    "**Exercise:** Which label has more pronunciation? Why?"
   ]
  },
  {
   "cell_type": "markdown",
   "metadata": {},
   "source": [
    "### Rescaled LBP"
   ]
  },
  {
   "cell_type": "code",
   "execution_count": null,
   "metadata": {},
   "outputs": [],
   "source": [
    "from skimage.transform import rescale\n",
    "rescaled_img1 = rescale(img1,.5)\n",
    "rescaled_img2 = rescale(img2,.5)\n",
    "rescaled_img3 = rescale(img3,.5)"
   ]
  },
  {
   "cell_type": "code",
   "execution_count": null,
   "metadata": {},
   "outputs": [],
   "source": [
    "LBP(rescaled_img1, rescaled_img2, rescaled_img3, radius, n_points, METHOD)"
   ]
  },
  {
   "cell_type": "markdown",
   "metadata": {},
   "source": [
    "**Exercise:** Does the rescaling affect the results?"
   ]
  },
  {
   "cell_type": "markdown",
   "metadata": {},
   "source": [
    "### Intensity rescaled LBP"
   ]
  },
  {
   "cell_type": "code",
   "execution_count": null,
   "metadata": {},
   "outputs": [],
   "source": [
    "intensity_rescaled_img1 = img1/2\n",
    "intensity_rescaled_img2 = img2/2\n",
    "intensity_rescaled_img3 = img3/2"
   ]
  },
  {
   "cell_type": "code",
   "execution_count": null,
   "metadata": {},
   "outputs": [],
   "source": [
    "LBP(intensity_rescaled_img1, intensity_rescaled_img2, intensity_rescaled_img3, radius, n_points, METHOD)"
   ]
  },
  {
   "cell_type": "markdown",
   "metadata": {},
   "source": [
    "**Exercise:** Does the intesitiy rescaling affect the results?"
   ]
  },
  {
   "cell_type": "markdown",
   "metadata": {},
   "source": [
    "## Compute LBP in different images"
   ]
  },
  {
   "cell_type": "markdown",
   "metadata": {},
   "source": [
    "### Load images"
   ]
  },
  {
   "cell_type": "code",
   "execution_count": null,
   "metadata": {},
   "outputs": [],
   "source": [
    "x = 300\n",
    "y = 300\n",
    "\n",
    "img4 = img_as_float(rgb2gray(resize(io.imread('textures_images/lbp_textures/adrien.jpg'), (x,y))))\n",
    "img5 = img_as_float(rgb2gray(resize(io.imread('textures_images/lbp_textures/nature.jpeg'), (x,y))))\n",
    "img6 = img_as_float(rgb2gray(resize(io.imread('textures_images/lbp_textures/mila.jpg'), (x,y))))"
   ]
  },
  {
   "cell_type": "code",
   "execution_count": null,
   "metadata": {},
   "outputs": [],
   "source": [
    "fig, ax= plt.subplots(ncols=3, nrows=1, figsize=(20,30))\n",
    "\n",
    "ax[0].imshow(img4, cmap='gray')\n",
    "ax[0].set_title('Texture 1')\n",
    "ax[1].imshow(img5, cmap='gray')\n",
    "ax[1].set_title('Texture 2')\n",
    "ax[2].imshow(img6, cmap='gray')\n",
    "ax[2].set_title('Texture 3')\n",
    "plt.show()"
   ]
  },
  {
   "cell_type": "markdown",
   "metadata": {},
   "source": [
    "### LBP"
   ]
  },
  {
   "cell_type": "code",
   "execution_count": null,
   "metadata": {},
   "outputs": [],
   "source": [
    "LBP(img4, img5, img6, radius, n_points, METHOD)"
   ]
  },
  {
   "cell_type": "markdown",
   "metadata": {},
   "source": [
    "### Rotated LBP"
   ]
  },
  {
   "cell_type": "code",
   "execution_count": null,
   "metadata": {},
   "outputs": [],
   "source": [
    "rotated_img4 = rotate(img4, angle=30, resize=False, center=None, order=1, mode='constant', cval=0, clip=True, preserve_range=False)\n",
    "rotated_img5 = rotate(img5, angle=145, resize=False, center=None, order=1, mode='constant', cval=0, clip=True, preserve_range=False)\n",
    "rotated_img6 = rotate(img6, angle=90, resize=False, center=None, order=1, mode='constant', cval=0, clip=True, preserve_range=False)"
   ]
  },
  {
   "cell_type": "code",
   "execution_count": null,
   "metadata": {},
   "outputs": [],
   "source": [
    "LBP(rotated_img4, rotated_img5, rotated_img6, radius, n_points, METHOD)"
   ]
  },
  {
   "cell_type": "markdown",
   "metadata": {},
   "source": [
    "### Rescaled LBP"
   ]
  },
  {
   "cell_type": "code",
   "execution_count": null,
   "metadata": {},
   "outputs": [],
   "source": [
    "rescaled_img4 = rescale(img4,.5)\n",
    "rescaled_img5 = rescale(img5,.5)\n",
    "rescaled_img6 = rescale(img6,.5)"
   ]
  },
  {
   "cell_type": "code",
   "execution_count": null,
   "metadata": {},
   "outputs": [],
   "source": [
    "LBP(rescaled_img4, rescaled_img5, rescaled_img6, radius, n_points, METHOD)"
   ]
  },
  {
   "cell_type": "markdown",
   "metadata": {},
   "source": [
    "### Intensity rescaled LBP"
   ]
  },
  {
   "cell_type": "code",
   "execution_count": null,
   "metadata": {},
   "outputs": [],
   "source": [
    "intensity_rescaled_img4 = img4/2\n",
    "intensity_rescaled_img5 = img5/2\n",
    "intensity_rescaled_img6 = img6/2"
   ]
  },
  {
   "cell_type": "code",
   "execution_count": null,
   "metadata": {},
   "outputs": [],
   "source": [
    "LBP(intensity_rescaled_img4, intensity_rescaled_img5, intensity_rescaled_img6, radius, n_points, METHOD)"
   ]
  },
  {
   "cell_type": "markdown",
   "metadata": {},
   "source": [
    "## 2. Leung-Malik filter bank (Gaussian filters)\n",
    "\n",
    "We can apply a collection of multiple filters that we call a filter bank. Note that if we apply $D$ filters our feature vectors will be $D$ dimensional.\n",
    "\n",
    "The following image shows a filter bank. In the filter bank we typically want filters to capture a combination of scales, orientations of different types of patterns. This particular filter bank is The Leung-Malik (LM) Filter Bank.\n",
    "\n",
    "<img src=\"images_notebook/filter_bank.png\">"
   ]
  },
  {
   "cell_type": "markdown",
   "metadata": {},
   "source": [
    "### Load & resize images"
   ]
  },
  {
   "cell_type": "code",
   "execution_count": null,
   "metadata": {},
   "outputs": [],
   "source": [
    "# Resize dimension 250 x 250\n",
    "x = 250\n",
    "y = 250\n",
    "\n",
    "# Load images: pets, sculptures, flowers\n",
    "path = \"./textures_images/pets/\"                       \n",
    "pets_images = [resize(skimage.io.imread(path + f), (x, y)) for f in os.listdir(path)]\n",
    "\n",
    "path = \"./textures_images/sculptures/\"\n",
    "sculptures_images = [resize(skimage.io.imread(path + f), (x, y)) for f in os.listdir(path)]\n",
    "\n",
    "path = \"./textures_images/flowers/\"\n",
    "flowers_images = [resize(skimage.io.imread(path + f), (x, y)) for f in os.listdir(path)]"
   ]
  },
  {
   "cell_type": "code",
   "execution_count": null,
   "metadata": {},
   "outputs": [],
   "source": [
    "fig, ax= plt.subplots(ncols=3, nrows=1, figsize=(20,30))\n",
    "\n",
    "ax[0].imshow(pets_images[0])\n",
    "ax[1].imshow(sculptures_images[0])\n",
    "ax[2].imshow(flowers_images[0])\n",
    "plt.show()"
   ]
  },
  {
   "cell_type": "code",
   "execution_count": null,
   "metadata": {},
   "outputs": [],
   "source": [
    "import LM_filters"
   ]
  },
  {
   "cell_type": "code",
   "execution_count": null,
   "metadata": {},
   "outputs": [],
   "source": [
    "# Load filters\n",
    "filter_bank = LM_filters.makeLMfilters()\n",
    "filter_bank.shape"
   ]
  },
  {
   "cell_type": "code",
   "execution_count": null,
   "metadata": {},
   "outputs": [],
   "source": [
    "n_filters = filter_bank.shape[-1]\n",
    "\n",
    "fig, ax = plt.subplots(ncols=12, nrows=4, figsize=(15,3))\n",
    "\n",
    "k = 0\n",
    "for i in range(4):\n",
    "    for j in range(12):\n",
    "        ax[i,j].imshow(filter_bank[:,:,k], cmap = 'gray')\n",
    "        ax[i,j].axis(\"off\")\n",
    "        k = k + 1"
   ]
  },
  {
   "cell_type": "markdown",
   "metadata": {},
   "source": [
    "### Apply filters to different images"
   ]
  },
  {
   "cell_type": "code",
   "execution_count": null,
   "metadata": {},
   "outputs": [],
   "source": [
    "def visualize_features(im,  filter_bank, n_filters=5):\n",
    "\n",
    "    ### Apply first 5 filters from the filter bank\n",
    "    fig, ax = plt.subplots(ncols=n_filters, nrows=2, figsize=(15,6))\n",
    "\n",
    "    for i in range(n_filters):\n",
    "        n_filter = i\n",
    "        im_conv = np.zeros(im.shape)\n",
    "        mask = filter_bank[:,:,n_filter]\n",
    "\n",
    "        scipy.ndimage.convolve(im, mask, output=im_conv)\n",
    "        ax[0,i].imshow(np.abs(im_conv),cmap='gray')\n",
    "        ax[0,i].axis(\"off\")\n",
    "\n",
    "        ax[1,i].imshow( filter_bank[:,:,n_filter], cmap=\"gray\")\n",
    "        ax[1,i].axis(\"off\")\n",
    "        \n",
    "im = pets_images[0]\n",
    "im = skimage.color.rgb2gray(im)\n",
    "im = im/im.max()\n",
    "plt.imshow(im, cmap=\"gray\")\n",
    "visualize_features(im, filter_bank)\n"
   ]
  },
  {
   "cell_type": "markdown",
   "metadata": {},
   "source": [
    "**Exercise:** Apply different filters on the same image. What are the differences? What is happening? \n",
    "\n",
    "**Exercise:** Apply a different number of filters. Do we get a better result? \n",
    "\n",
    "**Exercise:** Make the same changes to the other image sets (flowers and scultpures). Can we draw the same conclusions?"
   ]
  },
  {
   "cell_type": "markdown",
   "metadata": {},
   "source": [
    "### Feature vector from the filter bank\n",
    "\n",
    " The returned vector must contain at position $k$ the mean of the absolute value of the convolved image by filter $k$.\n",
    "\n",
    "$$\n",
    "\\text{feat}(x) = \\left( \\text{mean}( |r_1|), \\dots,\\text{mean}(|r_D|) \\right)\n",
    "$$"
   ]
  },
  {
   "cell_type": "code",
   "execution_count": null,
   "metadata": {},
   "outputs": [],
   "source": [
    "\n",
    "def features_from_filter_bank(image, filter_bank, n_filters):\n",
    "    \n",
    "    ## Complete this function\n",
    "    \n",
    "    im_conv = np.zeros(image.shape)\n",
    "    features_for_im = np.zeros(n_filters)\n",
    "  \n",
    "    return features_for_im\n",
    "\n",
    "features_for_im = features_from_filter_bank(im, filter_bank, n_filters)"
   ]
  },
  {
   "cell_type": "markdown",
   "metadata": {},
   "source": [
    "### Compare similarity between images"
   ]
  },
  {
   "cell_type": "markdown",
   "metadata": {},
   "source": [
    "Let us assume $f(x) \\in \\mathbb{R}^D$ represents a set of features for $x$. Given a query image $x$ and another image $x^m$ from the database, we can compute the distance between images as\n",
    "$$\n",
    "\\text{distance}\\left( f(x) , \\, f(x^m) \\right) = \\| \\text{feat}(x)  - \\text{feat}(x^m)  \\|_2 =  \\sqrt{ \\sum_{d=1}^\\text{D} \\left( f(x)_d - f(x^m)_d  \\right)^2 }\n",
    "$$\n"
   ]
  },
  {
   "cell_type": "code",
   "execution_count": null,
   "metadata": {},
   "outputs": [],
   "source": [
    "im1 = skimage.color.rgb2gray(pets_images[0])\n",
    "im2 = skimage.color.rgb2gray(flowers_images[0])\n",
    "features_for_im1 = features_from_filter_bank(im1, filter_bank, n_filters)\n",
    "features_for_im2 = features_from_filter_bank(im2, filter_bank, n_filters)\n",
    "distance = np.sqrt(np.sum((features_for_im1 - features_for_im2)**2))"
   ]
  },
  {
   "cell_type": "code",
   "execution_count": null,
   "metadata": {},
   "outputs": [],
   "source": []
  }
 ],
 "metadata": {
  "kernelspec": {
   "display_name": "Python 3",
   "language": "python",
   "name": "python3"
  },
  "language_info": {
   "codemirror_mode": {
    "name": "ipython",
    "version": 3
   },
   "file_extension": ".py",
   "mimetype": "text/x-python",
   "name": "python",
   "nbconvert_exporter": "python",
   "pygments_lexer": "ipython3",
   "version": "3.8.3"
  }
 },
 "nbformat": 4,
 "nbformat_minor": 4
}
